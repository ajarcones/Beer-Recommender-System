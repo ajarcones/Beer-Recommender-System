{
 "cells": [
  {
   "cell_type": "code",
   "execution_count": 1,
   "metadata": {},
   "outputs": [],
   "source": [
    "# Libreria de Analisis de Datos\n",
    "import pandas as pd\n",
    "import numpy as np\n",
    "from sklearn.model_selection import KFold"
   ]
  },
  {
   "cell_type": "code",
   "execution_count": 2,
   "metadata": {},
   "outputs": [],
   "source": [
    "# Leemos el fichero CSV: BEERADVOCATE RATINGS, RESULTANTE DEL PASO ANTERIOR \n",
    "reviews_raw = pd.read_csv('./Data/beer_reviews_v2.csv', delimiter=',',\\\n",
    "                          dtype={'review_profilename': str, \\\n",
    "                                 'beer_name': str, 'beer_advocates_style': str, \\\n",
    "                                 'brewery_name': str})"
   ]
  },
  {
   "cell_type": "code",
   "execution_count": 3,
   "metadata": {},
   "outputs": [
    {
     "name": "stdout",
     "output_type": "stream",
     "text": [
      "Hay 1301173 filas y 12 columnas\n"
     ]
    },
    {
     "data": {
      "text/html": [
       "<div>\n",
       "<style scoped>\n",
       "    .dataframe tbody tr th:only-of-type {\n",
       "        vertical-align: middle;\n",
       "    }\n",
       "\n",
       "    .dataframe tbody tr th {\n",
       "        vertical-align: top;\n",
       "    }\n",
       "\n",
       "    .dataframe thead th {\n",
       "        text-align: right;\n",
       "    }\n",
       "</style>\n",
       "<table border=\"1\" class=\"dataframe\">\n",
       "  <thead>\n",
       "    <tr style=\"text-align: right;\">\n",
       "      <th></th>\n",
       "      <th>review_profilename</th>\n",
       "      <th>beer_name</th>\n",
       "      <th>brewery_name</th>\n",
       "      <th>beer_advocates_style</th>\n",
       "      <th>beer_abv</th>\n",
       "      <th>abv_strength</th>\n",
       "      <th>review_overall</th>\n",
       "      <th>review_aroma</th>\n",
       "      <th>review_appearance</th>\n",
       "      <th>review_palate</th>\n",
       "      <th>review_taste</th>\n",
       "      <th>review_average</th>\n",
       "    </tr>\n",
       "  </thead>\n",
       "  <tbody>\n",
       "    <tr>\n",
       "      <th>0</th>\n",
       "      <td>zyzygy</td>\n",
       "      <td>Stone Old Guardian Barley Wine Style Ale 2006</td>\n",
       "      <td>Stone Brewing Co.</td>\n",
       "      <td>American Barleywine</td>\n",
       "      <td>11.2</td>\n",
       "      <td>4</td>\n",
       "      <td>4.0</td>\n",
       "      <td>4.5</td>\n",
       "      <td>4.0</td>\n",
       "      <td>4.5</td>\n",
       "      <td>4.5</td>\n",
       "      <td>4.3</td>\n",
       "    </tr>\n",
       "    <tr>\n",
       "      <th>1</th>\n",
       "      <td>ypsifly</td>\n",
       "      <td>Stone Old Guardian Barley Wine Style Ale 2006</td>\n",
       "      <td>Stone Brewing Co.</td>\n",
       "      <td>American Barleywine</td>\n",
       "      <td>11.2</td>\n",
       "      <td>4</td>\n",
       "      <td>4.5</td>\n",
       "      <td>4.0</td>\n",
       "      <td>3.0</td>\n",
       "      <td>4.0</td>\n",
       "      <td>4.5</td>\n",
       "      <td>4.0</td>\n",
       "    </tr>\n",
       "    <tr>\n",
       "      <th>2</th>\n",
       "      <td>woemad</td>\n",
       "      <td>Stone Old Guardian Barley Wine Style Ale 2006</td>\n",
       "      <td>Stone Brewing Co.</td>\n",
       "      <td>American Barleywine</td>\n",
       "      <td>11.2</td>\n",
       "      <td>4</td>\n",
       "      <td>4.0</td>\n",
       "      <td>4.5</td>\n",
       "      <td>4.0</td>\n",
       "      <td>4.5</td>\n",
       "      <td>4.5</td>\n",
       "      <td>4.3</td>\n",
       "    </tr>\n",
       "    <tr>\n",
       "      <th>3</th>\n",
       "      <td>wnhay</td>\n",
       "      <td>Stone Old Guardian Barley Wine Style Ale 2006</td>\n",
       "      <td>Stone Brewing Co.</td>\n",
       "      <td>American Barleywine</td>\n",
       "      <td>11.2</td>\n",
       "      <td>4</td>\n",
       "      <td>4.0</td>\n",
       "      <td>4.0</td>\n",
       "      <td>4.5</td>\n",
       "      <td>4.0</td>\n",
       "      <td>4.0</td>\n",
       "      <td>4.1</td>\n",
       "    </tr>\n",
       "    <tr>\n",
       "      <th>4</th>\n",
       "      <td>williamherbert</td>\n",
       "      <td>Stone Old Guardian Barley Wine Style Ale 2006</td>\n",
       "      <td>Stone Brewing Co.</td>\n",
       "      <td>American Barleywine</td>\n",
       "      <td>11.2</td>\n",
       "      <td>4</td>\n",
       "      <td>3.0</td>\n",
       "      <td>3.0</td>\n",
       "      <td>4.5</td>\n",
       "      <td>3.0</td>\n",
       "      <td>3.5</td>\n",
       "      <td>3.4</td>\n",
       "    </tr>\n",
       "  </tbody>\n",
       "</table>\n",
       "</div>"
      ],
      "text/plain": [
       "  review_profilename                                      beer_name  \\\n",
       "0             zyzygy  Stone Old Guardian Barley Wine Style Ale 2006   \n",
       "1            ypsifly  Stone Old Guardian Barley Wine Style Ale 2006   \n",
       "2             woemad  Stone Old Guardian Barley Wine Style Ale 2006   \n",
       "3              wnhay  Stone Old Guardian Barley Wine Style Ale 2006   \n",
       "4     williamherbert  Stone Old Guardian Barley Wine Style Ale 2006   \n",
       "\n",
       "        brewery_name beer_advocates_style  beer_abv  abv_strength  \\\n",
       "0  Stone Brewing Co.  American Barleywine      11.2             4   \n",
       "1  Stone Brewing Co.  American Barleywine      11.2             4   \n",
       "2  Stone Brewing Co.  American Barleywine      11.2             4   \n",
       "3  Stone Brewing Co.  American Barleywine      11.2             4   \n",
       "4  Stone Brewing Co.  American Barleywine      11.2             4   \n",
       "\n",
       "   review_overall  review_aroma  review_appearance  review_palate  \\\n",
       "0             4.0           4.5                4.0            4.5   \n",
       "1             4.5           4.0                3.0            4.0   \n",
       "2             4.0           4.5                4.0            4.5   \n",
       "3             4.0           4.0                4.5            4.0   \n",
       "4             3.0           3.0                4.5            3.0   \n",
       "\n",
       "   review_taste  review_average  \n",
       "0           4.5             4.3  \n",
       "1           4.5             4.0  \n",
       "2           4.5             4.3  \n",
       "3           4.0             4.1  \n",
       "4           3.5             3.4  "
      ]
     },
     "execution_count": 3,
     "metadata": {},
     "output_type": "execute_result"
    }
   ],
   "source": [
    "# Haremos una copia para trabajar con ella\n",
    "dfreviews = reviews_raw[['review_profilename', 'beer_name', 'brewery_name', \\\n",
    "                         'beer_advocates_style', 'beer_abv', 'abv_strength', \\\n",
    "                         'review_overall', 'review_aroma', 'review_appearance', 'review_palate', \\\n",
    "                         'review_taste', 'review_average']].copy()\n",
    "\n",
    "nRow, nCol = dfreviews.shape\n",
    "print('Hay',  nRow, 'filas y', nCol, 'columnas')\n",
    "\n",
    "# Primer vistazo\n",
    "dfreviews.head()"
   ]
  },
  {
   "cell_type": "code",
   "execution_count": 4,
   "metadata": {},
   "outputs": [
    {
     "name": "stdout",
     "output_type": "stream",
     "text": [
      "<class 'pandas.core.frame.DataFrame'>\n",
      "RangeIndex: 1301173 entries, 0 to 1301172\n",
      "Data columns (total 12 columns):\n",
      "review_profilename      1301173 non-null object\n",
      "beer_name               1301173 non-null object\n",
      "brewery_name            1301173 non-null object\n",
      "beer_advocates_style    1301173 non-null object\n",
      "beer_abv                1301173 non-null float64\n",
      "abv_strength            1301173 non-null int64\n",
      "review_overall          1301173 non-null float64\n",
      "review_aroma            1301173 non-null float64\n",
      "review_appearance       1301173 non-null float64\n",
      "review_palate           1301173 non-null float64\n",
      "review_taste            1301173 non-null float64\n",
      "review_average          1301173 non-null float64\n",
      "dtypes: float64(7), int64(1), object(4)\n",
      "memory usage: 119.1+ MB\n"
     ]
    }
   ],
   "source": [
    "# Estructura original del fichero\n",
    "dfreviews.info()"
   ]
  },
  {
   "cell_type": "code",
   "execution_count": 5,
   "metadata": {},
   "outputs": [
    {
     "name": "stdout",
     "output_type": "stream",
     "text": [
      "<class 'pandas.core.frame.DataFrame'>\n",
      "RangeIndex: 1301173 entries, 0 to 1301172\n",
      "Data columns (total 12 columns):\n",
      "review_profilename      1301173 non-null category\n",
      "beer_name               1301173 non-null category\n",
      "brewery_name            1301173 non-null category\n",
      "beer_advocates_style    1301173 non-null category\n",
      "beer_abv                1301173 non-null float64\n",
      "abv_strength            1301173 non-null int64\n",
      "review_overall          1301173 non-null float64\n",
      "review_aroma            1301173 non-null float64\n",
      "review_appearance       1301173 non-null float64\n",
      "review_palate           1301173 non-null float64\n",
      "review_taste            1301173 non-null float64\n",
      "review_average          1301173 non-null float64\n",
      "dtypes: category(4), float64(7), int64(1)\n",
      "memory usage: 90.0 MB\n"
     ]
    }
   ],
   "source": [
    "# Los valores STRING se cargan con el TIPO PANDAS object: Convertiremos 'object' a Tipos PANDAS 'category'\n",
    "# Asi los STRINGS se codificaran como numeros y sera mas eficiente su analisis posterior\n",
    "dfreviews[dfreviews.select_dtypes(['object']).columns] = \\\n",
    "    dfreviews.select_dtypes(['object']).apply(lambda x: x.astype('category'))\n",
    "\n",
    "dfreviews.info()"
   ]
  },
  {
   "cell_type": "code",
   "execution_count": 6,
   "metadata": {},
   "outputs": [],
   "source": [
    "def get_ibu_range_avg(str_ibu_range):\n",
    "    # SEPARADOR '-'\n",
    "    if str_ibu_range.find('-') != -1:\n",
    "        separatorChar = '-'\n",
    "    \n",
    "    # SEPARADOR '–'\n",
    "    if str_ibu_range.find('–') != -1:\n",
    "        separatorChar = '–'\n",
    "\n",
    "    l = str_ibu_range.split(separatorChar)\n",
    "    #print(l)\n",
    "    minIBU = float(l[0])\n",
    "    maxIBU = float(l[1])\n",
    "    \n",
    "    beerStyleAvgIBU = ((minIBU + maxIBU) / 2)\n",
    "    \n",
    "    return beerStyleAvgIBU"
   ]
  },
  {
   "cell_type": "code",
   "execution_count": 7,
   "metadata": {},
   "outputs": [
    {
     "data": {
      "text/plain": [
       "25.0"
      ]
     },
     "execution_count": 7,
     "metadata": {},
     "output_type": "execute_result"
    }
   ],
   "source": [
    "get_ibu_range_avg('20-30')"
   ]
  },
  {
   "cell_type": "code",
   "execution_count": 8,
   "metadata": {},
   "outputs": [],
   "source": [
    "styles_raw = pd.read_csv('./Data/beer_styles_v1.csv', delimiter=',',\\\n",
    "                          dtype={'style_name': str, 'family_name': str, \\\n",
    "                                 'abv_range': str, 'ibu_range': str, 'style_URL': str})"
   ]
  },
  {
   "cell_type": "code",
   "execution_count": 9,
   "metadata": {},
   "outputs": [
    {
     "name": "stdout",
     "output_type": "stream",
     "text": [
      "Hay 111 filas y 7 columnas\n"
     ]
    },
    {
     "data": {
      "text/html": [
       "<div>\n",
       "<style scoped>\n",
       "    .dataframe tbody tr th:only-of-type {\n",
       "        vertical-align: middle;\n",
       "    }\n",
       "\n",
       "    .dataframe tbody tr th {\n",
       "        vertical-align: top;\n",
       "    }\n",
       "\n",
       "    .dataframe thead th {\n",
       "        text-align: right;\n",
       "    }\n",
       "</style>\n",
       "<table border=\"1\" class=\"dataframe\">\n",
       "  <thead>\n",
       "    <tr style=\"text-align: right;\">\n",
       "      <th></th>\n",
       "      <th>abv_range</th>\n",
       "      <th>abv_strength</th>\n",
       "      <th>family_name</th>\n",
       "      <th>ibu_range</th>\n",
       "      <th>ibu_strength</th>\n",
       "      <th>style_URL</th>\n",
       "      <th>style_name</th>\n",
       "    </tr>\n",
       "  </thead>\n",
       "  <tbody>\n",
       "    <tr>\n",
       "      <th>0</th>\n",
       "      <td>6.3-7.6%</td>\n",
       "      <td>3</td>\n",
       "      <td>Bocks</td>\n",
       "      <td>20-30</td>\n",
       "      <td>3</td>\n",
       "      <td>https://www.beeradvocate.com/beer/styles/32/</td>\n",
       "      <td>German Bock</td>\n",
       "    </tr>\n",
       "    <tr>\n",
       "      <th>1</th>\n",
       "      <td>6.6-7.9%</td>\n",
       "      <td>3</td>\n",
       "      <td>Bocks</td>\n",
       "      <td>17-27</td>\n",
       "      <td>3</td>\n",
       "      <td>https://www.beeradvocate.com/beer/styles/35/</td>\n",
       "      <td>German Doppelbock</td>\n",
       "    </tr>\n",
       "    <tr>\n",
       "      <th>2</th>\n",
       "      <td>7.0-14.0%</td>\n",
       "      <td>4</td>\n",
       "      <td>Bocks</td>\n",
       "      <td>25-35</td>\n",
       "      <td>3</td>\n",
       "      <td>https://www.beeradvocate.com/beer/styles/36/</td>\n",
       "      <td>German Eisbock</td>\n",
       "    </tr>\n",
       "    <tr>\n",
       "      <th>3</th>\n",
       "      <td>6.3-8.1%</td>\n",
       "      <td>3</td>\n",
       "      <td>Bocks</td>\n",
       "      <td>20-38</td>\n",
       "      <td>3</td>\n",
       "      <td>https://www.beeradvocate.com/beer/styles/33/</td>\n",
       "      <td>German Maibock</td>\n",
       "    </tr>\n",
       "    <tr>\n",
       "      <th>4</th>\n",
       "      <td>7.0-9.5%</td>\n",
       "      <td>3</td>\n",
       "      <td>Bocks</td>\n",
       "      <td>15-35</td>\n",
       "      <td>3</td>\n",
       "      <td>https://www.beeradvocate.com/beer/styles/92/</td>\n",
       "      <td>German Weizenbock</td>\n",
       "    </tr>\n",
       "  </tbody>\n",
       "</table>\n",
       "</div>"
      ],
      "text/plain": [
       "   abv_range  abv_strength family_name ibu_range  ibu_strength  \\\n",
       "0   6.3-7.6%             3       Bocks     20-30             3   \n",
       "1   6.6-7.9%             3       Bocks     17-27             3   \n",
       "2  7.0-14.0%             4       Bocks     25-35             3   \n",
       "3   6.3-8.1%             3       Bocks     20-38             3   \n",
       "4   7.0-9.5%             3       Bocks     15-35             3   \n",
       "\n",
       "                                      style_URL         style_name  \n",
       "0  https://www.beeradvocate.com/beer/styles/32/        German Bock  \n",
       "1  https://www.beeradvocate.com/beer/styles/35/  German Doppelbock  \n",
       "2  https://www.beeradvocate.com/beer/styles/36/     German Eisbock  \n",
       "3  https://www.beeradvocate.com/beer/styles/33/     German Maibock  \n",
       "4  https://www.beeradvocate.com/beer/styles/92/  German Weizenbock  "
      ]
     },
     "execution_count": 9,
     "metadata": {},
     "output_type": "execute_result"
    }
   ],
   "source": [
    "nRowS, nColS = styles_raw.shape\n",
    "print('Hay',  nRowS, 'filas y', nColS, 'columnas')\n",
    "\n",
    "# Primer vistazo\n",
    "styles_raw.head()"
   ]
  },
  {
   "cell_type": "code",
   "execution_count": 10,
   "metadata": {},
   "outputs": [
    {
     "name": "stdout",
     "output_type": "stream",
     "text": [
      "<class 'pandas.core.frame.DataFrame'>\n",
      "RangeIndex: 111 entries, 0 to 110\n",
      "Data columns (total 7 columns):\n",
      "abv_range       111 non-null object\n",
      "abv_strength    111 non-null int64\n",
      "family_name     111 non-null object\n",
      "ibu_range       111 non-null object\n",
      "ibu_strength    111 non-null int64\n",
      "style_URL       111 non-null object\n",
      "style_name      111 non-null object\n",
      "dtypes: int64(2), object(5)\n",
      "memory usage: 6.1+ KB\n"
     ]
    }
   ],
   "source": [
    "styles_raw.info()"
   ]
  },
  {
   "cell_type": "code",
   "execution_count": 11,
   "metadata": {},
   "outputs": [
    {
     "name": "stdout",
     "output_type": "stream",
     "text": [
      "<class 'pandas.core.frame.DataFrame'>\n",
      "RangeIndex: 111 entries, 0 to 110\n",
      "Data columns (total 7 columns):\n",
      "abv_range       111 non-null category\n",
      "abv_strength    111 non-null int64\n",
      "family_name     111 non-null category\n",
      "ibu_range       111 non-null category\n",
      "ibu_strength    111 non-null int64\n",
      "style_URL       111 non-null category\n",
      "style_name      111 non-null category\n",
      "dtypes: category(5), int64(2)\n",
      "memory usage: 21.0 KB\n"
     ]
    }
   ],
   "source": [
    "# Los valores STRING se cargan con el TIPO PANDAS object: Convertiremos  'object' a Tipos PANDAS 'category'\n",
    "# Asi los STRINGS se codificaran como numeros y sera mas eficiente su analisis posterior\n",
    "styles_raw[styles_raw.select_dtypes(['object']).columns] = \\\n",
    "    styles_raw.select_dtypes(['object']).apply(lambda x: x.astype('category'))\n",
    "\n",
    "styles_raw.info()"
   ]
  },
  {
   "cell_type": "markdown",
   "metadata": {},
   "source": [
    "### AÑADIMOS la columna nueva 'beer_style_avg_ibu'"
   ]
  },
  {
   "cell_type": "code",
   "execution_count": 12,
   "metadata": {},
   "outputs": [
    {
     "name": "stdout",
     "output_type": "stream",
     "text": [
      "Beer style: \"American Barleywine\", IBU Range: 60–100, Media(IBU Range): 80.0\n",
      "Beer style: \"German Bock\", IBU Range: 20-30, Media(IBU Range): 25.0\n"
     ]
    }
   ],
   "source": [
    "bs_testing_list = ['American Barleywine', 'German Bock']\n",
    "for bs in bs_testing_list:\n",
    "    print('Beer style: \"{0}\", IBU Range: {1}, Media(IBU Range): {2}'.format(\\\n",
    "                bs, \\\n",
    "                styles_raw[styles_raw['style_name'] == bs]['ibu_range'][0], \\\n",
    "                get_ibu_range_avg(styles_raw[styles_raw['style_name'] == bs]['ibu_range'][0])))\n"
   ]
  },
  {
   "cell_type": "code",
   "execution_count": 13,
   "metadata": {},
   "outputs": [],
   "source": [
    "dfreviews['beer_style_ibu_avg'] = dfreviews['beer_advocates_style'] \\\n",
    "        .apply(lambda beer_style: \\\n",
    "                      get_ibu_range_avg(styles_raw[styles_raw['style_name'] == beer_style]['ibu_range'][0]))"
   ]
  },
  {
   "cell_type": "code",
   "execution_count": 14,
   "metadata": {},
   "outputs": [
    {
     "data": {
      "text/html": [
       "<div>\n",
       "<style scoped>\n",
       "    .dataframe tbody tr th:only-of-type {\n",
       "        vertical-align: middle;\n",
       "    }\n",
       "\n",
       "    .dataframe tbody tr th {\n",
       "        vertical-align: top;\n",
       "    }\n",
       "\n",
       "    .dataframe thead th {\n",
       "        text-align: right;\n",
       "    }\n",
       "</style>\n",
       "<table border=\"1\" class=\"dataframe\">\n",
       "  <thead>\n",
       "    <tr style=\"text-align: right;\">\n",
       "      <th></th>\n",
       "      <th>review_profilename</th>\n",
       "      <th>beer_name</th>\n",
       "      <th>brewery_name</th>\n",
       "      <th>beer_advocates_style</th>\n",
       "      <th>beer_abv</th>\n",
       "      <th>abv_strength</th>\n",
       "      <th>review_overall</th>\n",
       "      <th>review_aroma</th>\n",
       "      <th>review_appearance</th>\n",
       "      <th>review_palate</th>\n",
       "      <th>review_taste</th>\n",
       "      <th>review_average</th>\n",
       "      <th>beer_style_ibu_avg</th>\n",
       "    </tr>\n",
       "  </thead>\n",
       "  <tbody>\n",
       "    <tr>\n",
       "      <th>0</th>\n",
       "      <td>zyzygy</td>\n",
       "      <td>Stone Old Guardian Barley Wine Style Ale 2006</td>\n",
       "      <td>Stone Brewing Co.</td>\n",
       "      <td>American Barleywine</td>\n",
       "      <td>11.2</td>\n",
       "      <td>4</td>\n",
       "      <td>4.0</td>\n",
       "      <td>4.5</td>\n",
       "      <td>4.0</td>\n",
       "      <td>4.5</td>\n",
       "      <td>4.5</td>\n",
       "      <td>4.3</td>\n",
       "      <td>80.0</td>\n",
       "    </tr>\n",
       "    <tr>\n",
       "      <th>1</th>\n",
       "      <td>ypsifly</td>\n",
       "      <td>Stone Old Guardian Barley Wine Style Ale 2006</td>\n",
       "      <td>Stone Brewing Co.</td>\n",
       "      <td>American Barleywine</td>\n",
       "      <td>11.2</td>\n",
       "      <td>4</td>\n",
       "      <td>4.5</td>\n",
       "      <td>4.0</td>\n",
       "      <td>3.0</td>\n",
       "      <td>4.0</td>\n",
       "      <td>4.5</td>\n",
       "      <td>4.0</td>\n",
       "      <td>80.0</td>\n",
       "    </tr>\n",
       "    <tr>\n",
       "      <th>2</th>\n",
       "      <td>woemad</td>\n",
       "      <td>Stone Old Guardian Barley Wine Style Ale 2006</td>\n",
       "      <td>Stone Brewing Co.</td>\n",
       "      <td>American Barleywine</td>\n",
       "      <td>11.2</td>\n",
       "      <td>4</td>\n",
       "      <td>4.0</td>\n",
       "      <td>4.5</td>\n",
       "      <td>4.0</td>\n",
       "      <td>4.5</td>\n",
       "      <td>4.5</td>\n",
       "      <td>4.3</td>\n",
       "      <td>80.0</td>\n",
       "    </tr>\n",
       "    <tr>\n",
       "      <th>3</th>\n",
       "      <td>wnhay</td>\n",
       "      <td>Stone Old Guardian Barley Wine Style Ale 2006</td>\n",
       "      <td>Stone Brewing Co.</td>\n",
       "      <td>American Barleywine</td>\n",
       "      <td>11.2</td>\n",
       "      <td>4</td>\n",
       "      <td>4.0</td>\n",
       "      <td>4.0</td>\n",
       "      <td>4.5</td>\n",
       "      <td>4.0</td>\n",
       "      <td>4.0</td>\n",
       "      <td>4.1</td>\n",
       "      <td>80.0</td>\n",
       "    </tr>\n",
       "    <tr>\n",
       "      <th>4</th>\n",
       "      <td>williamherbert</td>\n",
       "      <td>Stone Old Guardian Barley Wine Style Ale 2006</td>\n",
       "      <td>Stone Brewing Co.</td>\n",
       "      <td>American Barleywine</td>\n",
       "      <td>11.2</td>\n",
       "      <td>4</td>\n",
       "      <td>3.0</td>\n",
       "      <td>3.0</td>\n",
       "      <td>4.5</td>\n",
       "      <td>3.0</td>\n",
       "      <td>3.5</td>\n",
       "      <td>3.4</td>\n",
       "      <td>80.0</td>\n",
       "    </tr>\n",
       "  </tbody>\n",
       "</table>\n",
       "</div>"
      ],
      "text/plain": [
       "  review_profilename                                      beer_name  \\\n",
       "0             zyzygy  Stone Old Guardian Barley Wine Style Ale 2006   \n",
       "1            ypsifly  Stone Old Guardian Barley Wine Style Ale 2006   \n",
       "2             woemad  Stone Old Guardian Barley Wine Style Ale 2006   \n",
       "3              wnhay  Stone Old Guardian Barley Wine Style Ale 2006   \n",
       "4     williamherbert  Stone Old Guardian Barley Wine Style Ale 2006   \n",
       "\n",
       "        brewery_name beer_advocates_style  beer_abv  abv_strength  \\\n",
       "0  Stone Brewing Co.  American Barleywine      11.2             4   \n",
       "1  Stone Brewing Co.  American Barleywine      11.2             4   \n",
       "2  Stone Brewing Co.  American Barleywine      11.2             4   \n",
       "3  Stone Brewing Co.  American Barleywine      11.2             4   \n",
       "4  Stone Brewing Co.  American Barleywine      11.2             4   \n",
       "\n",
       "   review_overall  review_aroma  review_appearance  review_palate  \\\n",
       "0             4.0           4.5                4.0            4.5   \n",
       "1             4.5           4.0                3.0            4.0   \n",
       "2             4.0           4.5                4.0            4.5   \n",
       "3             4.0           4.0                4.5            4.0   \n",
       "4             3.0           3.0                4.5            3.0   \n",
       "\n",
       "   review_taste  review_average  beer_style_ibu_avg  \n",
       "0           4.5             4.3                80.0  \n",
       "1           4.5             4.0                80.0  \n",
       "2           4.5             4.3                80.0  \n",
       "3           4.0             4.1                80.0  \n",
       "4           3.5             3.4                80.0  "
      ]
     },
     "execution_count": 14,
     "metadata": {},
     "output_type": "execute_result"
    }
   ],
   "source": [
    "dfreviews.head()"
   ]
  },
  {
   "cell_type": "code",
   "execution_count": 15,
   "metadata": {},
   "outputs": [
    {
     "data": {
      "text/html": [
       "<div>\n",
       "<style scoped>\n",
       "    .dataframe tbody tr th:only-of-type {\n",
       "        vertical-align: middle;\n",
       "    }\n",
       "\n",
       "    .dataframe tbody tr th {\n",
       "        vertical-align: top;\n",
       "    }\n",
       "\n",
       "    .dataframe thead th {\n",
       "        text-align: right;\n",
       "    }\n",
       "</style>\n",
       "<table border=\"1\" class=\"dataframe\">\n",
       "  <thead>\n",
       "    <tr style=\"text-align: right;\">\n",
       "      <th></th>\n",
       "      <th>review_profilename</th>\n",
       "      <th>beer_name</th>\n",
       "      <th>brewery_name</th>\n",
       "      <th>beer_advocates_style</th>\n",
       "      <th>beer_abv</th>\n",
       "      <th>abv_strength</th>\n",
       "      <th>review_overall</th>\n",
       "      <th>review_aroma</th>\n",
       "      <th>review_appearance</th>\n",
       "      <th>review_palate</th>\n",
       "      <th>review_taste</th>\n",
       "      <th>review_average</th>\n",
       "      <th>beer_style_ibu_avg</th>\n",
       "    </tr>\n",
       "  </thead>\n",
       "  <tbody>\n",
       "    <tr>\n",
       "      <th>1301168</th>\n",
       "      <td>BuckeyeNation</td>\n",
       "      <td>Point Spring Bock</td>\n",
       "      <td>Stevens Point Brewery</td>\n",
       "      <td>German Bock</td>\n",
       "      <td>5.2</td>\n",
       "      <td>2</td>\n",
       "      <td>3.5</td>\n",
       "      <td>3.0</td>\n",
       "      <td>4.0</td>\n",
       "      <td>2.5</td>\n",
       "      <td>3.0</td>\n",
       "      <td>3.2</td>\n",
       "      <td>25.0</td>\n",
       "    </tr>\n",
       "    <tr>\n",
       "      <th>1301169</th>\n",
       "      <td>Bighuge</td>\n",
       "      <td>Point Spring Bock</td>\n",
       "      <td>Stevens Point Brewery</td>\n",
       "      <td>German Bock</td>\n",
       "      <td>5.2</td>\n",
       "      <td>2</td>\n",
       "      <td>4.5</td>\n",
       "      <td>4.0</td>\n",
       "      <td>4.0</td>\n",
       "      <td>3.5</td>\n",
       "      <td>4.0</td>\n",
       "      <td>4.0</td>\n",
       "      <td>25.0</td>\n",
       "    </tr>\n",
       "    <tr>\n",
       "      <th>1301170</th>\n",
       "      <td>Beerwolf17</td>\n",
       "      <td>Point Spring Bock</td>\n",
       "      <td>Stevens Point Brewery</td>\n",
       "      <td>German Bock</td>\n",
       "      <td>5.2</td>\n",
       "      <td>2</td>\n",
       "      <td>4.0</td>\n",
       "      <td>3.0</td>\n",
       "      <td>3.5</td>\n",
       "      <td>4.0</td>\n",
       "      <td>3.0</td>\n",
       "      <td>3.5</td>\n",
       "      <td>25.0</td>\n",
       "    </tr>\n",
       "    <tr>\n",
       "      <th>1301171</th>\n",
       "      <td>Atron67</td>\n",
       "      <td>Point Spring Bock</td>\n",
       "      <td>Stevens Point Brewery</td>\n",
       "      <td>German Bock</td>\n",
       "      <td>5.2</td>\n",
       "      <td>2</td>\n",
       "      <td>3.5</td>\n",
       "      <td>2.5</td>\n",
       "      <td>3.0</td>\n",
       "      <td>4.0</td>\n",
       "      <td>4.0</td>\n",
       "      <td>3.4</td>\n",
       "      <td>25.0</td>\n",
       "    </tr>\n",
       "    <tr>\n",
       "      <th>1301172</th>\n",
       "      <td>ADR</td>\n",
       "      <td>Point Spring Bock</td>\n",
       "      <td>Stevens Point Brewery</td>\n",
       "      <td>German Bock</td>\n",
       "      <td>5.2</td>\n",
       "      <td>2</td>\n",
       "      <td>4.0</td>\n",
       "      <td>4.5</td>\n",
       "      <td>4.0</td>\n",
       "      <td>3.0</td>\n",
       "      <td>3.5</td>\n",
       "      <td>3.8</td>\n",
       "      <td>25.0</td>\n",
       "    </tr>\n",
       "  </tbody>\n",
       "</table>\n",
       "</div>"
      ],
      "text/plain": [
       "        review_profilename          beer_name           brewery_name  \\\n",
       "1301168      BuckeyeNation  Point Spring Bock  Stevens Point Brewery   \n",
       "1301169            Bighuge  Point Spring Bock  Stevens Point Brewery   \n",
       "1301170         Beerwolf17  Point Spring Bock  Stevens Point Brewery   \n",
       "1301171            Atron67  Point Spring Bock  Stevens Point Brewery   \n",
       "1301172                ADR  Point Spring Bock  Stevens Point Brewery   \n",
       "\n",
       "        beer_advocates_style  beer_abv  abv_strength  review_overall  \\\n",
       "1301168          German Bock       5.2             2             3.5   \n",
       "1301169          German Bock       5.2             2             4.5   \n",
       "1301170          German Bock       5.2             2             4.0   \n",
       "1301171          German Bock       5.2             2             3.5   \n",
       "1301172          German Bock       5.2             2             4.0   \n",
       "\n",
       "         review_aroma  review_appearance  review_palate  review_taste  \\\n",
       "1301168           3.0                4.0            2.5           3.0   \n",
       "1301169           4.0                4.0            3.5           4.0   \n",
       "1301170           3.0                3.5            4.0           3.0   \n",
       "1301171           2.5                3.0            4.0           4.0   \n",
       "1301172           4.5                4.0            3.0           3.5   \n",
       "\n",
       "         review_average  beer_style_ibu_avg  \n",
       "1301168             3.2                25.0  \n",
       "1301169             4.0                25.0  \n",
       "1301170             3.5                25.0  \n",
       "1301171             3.4                25.0  \n",
       "1301172             3.8                25.0  "
      ]
     },
     "execution_count": 15,
     "metadata": {},
     "output_type": "execute_result"
    }
   ],
   "source": [
    "dfreviews.tail()"
   ]
  },
  {
   "cell_type": "code",
   "execution_count": 16,
   "metadata": {
    "scrolled": true
   },
   "outputs": [
    {
     "name": "stdout",
     "output_type": "stream",
     "text": [
      "<class 'pandas.core.frame.DataFrame'>\n",
      "RangeIndex: 1301173 entries, 0 to 1301172\n",
      "Data columns (total 13 columns):\n",
      "review_profilename      1301173 non-null category\n",
      "beer_name               1301173 non-null category\n",
      "brewery_name            1301173 non-null category\n",
      "beer_advocates_style    1301173 non-null category\n",
      "beer_abv                1301173 non-null float64\n",
      "abv_strength            1301173 non-null int64\n",
      "review_overall          1301173 non-null float64\n",
      "review_aroma            1301173 non-null float64\n",
      "review_appearance       1301173 non-null float64\n",
      "review_palate           1301173 non-null float64\n",
      "review_taste            1301173 non-null float64\n",
      "review_average          1301173 non-null float64\n",
      "beer_style_ibu_avg      1301173 non-null float64\n",
      "dtypes: category(4), float64(8), int64(1)\n",
      "memory usage: 100.0 MB\n"
     ]
    }
   ],
   "source": [
    "dfreviews.info()"
   ]
  },
  {
   "cell_type": "markdown",
   "metadata": {},
   "source": [
    "### AÑADIREMOS 2 COLUMNAS PARA LOS VALORES DE LAS 2 FORMULAS DE SCORING\n",
    "\n",
    "#### COLUMNA 'beeradvocate_score'\n",
    "def beeradvocate_score(ratingsdf):\n",
    "    return(((ratingsdf['review_taste'] * 0.40) + \\\n",
    "            (ratingsdf['review_aroma'] * 0.24) + \\\n",
    "            (ratingsdf['review_palate'] * 0.10) + \\\n",
    "            (ratingsdf['review_appearance'] * 0.06) + \\\n",
    "            (ratingsdf['review_overall'] * 0.20)))\n",
    "\n",
    "#### COLUMNA 'aroma_appearance_score'\n",
    "def aroma_appearance_score_2(ratingsdf):\n",
    "    return(((ratingsdf['review_aroma'] * 0.40) + \\\n",
    "            (ratingsdf['review_appearance'] * 0.24) + \\\n",
    "            (ratingsdf['review_taste'] * 0.10) + \\\n",
    "            (ratingsdf['review_palate'] * 0.06) + \\\n",
    "            (ratingsdf['review_overall'] * 0.20)))"
   ]
  },
  {
   "cell_type": "code",
   "execution_count": 17,
   "metadata": {},
   "outputs": [],
   "source": [
    "dfreviews['beeradvocate_score'] = dfreviews.apply(lambda row:\\\n",
    "                                                         ((row['review_taste'] * 0.40) + \\\n",
    "                                                          (row['review_aroma'] * 0.24) + \\\n",
    "                                                          (row['review_palate'] * 0.10) + \\\n",
    "                                                          (row['review_appearance'] * 0.06) + \\\n",
    "                                                          (row['review_overall'] * 0.20)), \\\n",
    "                                                         axis=1)"
   ]
  },
  {
   "cell_type": "code",
   "execution_count": 18,
   "metadata": {
    "collapsed": true
   },
   "outputs": [
    {
     "data": {
      "text/html": [
       "<div>\n",
       "<style scoped>\n",
       "    .dataframe tbody tr th:only-of-type {\n",
       "        vertical-align: middle;\n",
       "    }\n",
       "\n",
       "    .dataframe tbody tr th {\n",
       "        vertical-align: top;\n",
       "    }\n",
       "\n",
       "    .dataframe thead th {\n",
       "        text-align: right;\n",
       "    }\n",
       "</style>\n",
       "<table border=\"1\" class=\"dataframe\">\n",
       "  <thead>\n",
       "    <tr style=\"text-align: right;\">\n",
       "      <th></th>\n",
       "      <th>review_profilename</th>\n",
       "      <th>beer_name</th>\n",
       "      <th>brewery_name</th>\n",
       "      <th>beer_advocates_style</th>\n",
       "      <th>beer_abv</th>\n",
       "      <th>abv_strength</th>\n",
       "      <th>review_overall</th>\n",
       "      <th>review_aroma</th>\n",
       "      <th>review_appearance</th>\n",
       "      <th>review_palate</th>\n",
       "      <th>review_taste</th>\n",
       "      <th>review_average</th>\n",
       "      <th>beer_style_ibu_avg</th>\n",
       "      <th>beeradvocate_score</th>\n",
       "    </tr>\n",
       "  </thead>\n",
       "  <tbody>\n",
       "    <tr>\n",
       "      <th>0</th>\n",
       "      <td>zyzygy</td>\n",
       "      <td>Stone Old Guardian Barley Wine Style Ale 2006</td>\n",
       "      <td>Stone Brewing Co.</td>\n",
       "      <td>American Barleywine</td>\n",
       "      <td>11.2</td>\n",
       "      <td>4</td>\n",
       "      <td>4.0</td>\n",
       "      <td>4.5</td>\n",
       "      <td>4.0</td>\n",
       "      <td>4.5</td>\n",
       "      <td>4.5</td>\n",
       "      <td>4.3</td>\n",
       "      <td>80.0</td>\n",
       "      <td>4.37</td>\n",
       "    </tr>\n",
       "    <tr>\n",
       "      <th>1</th>\n",
       "      <td>ypsifly</td>\n",
       "      <td>Stone Old Guardian Barley Wine Style Ale 2006</td>\n",
       "      <td>Stone Brewing Co.</td>\n",
       "      <td>American Barleywine</td>\n",
       "      <td>11.2</td>\n",
       "      <td>4</td>\n",
       "      <td>4.5</td>\n",
       "      <td>4.0</td>\n",
       "      <td>3.0</td>\n",
       "      <td>4.0</td>\n",
       "      <td>4.5</td>\n",
       "      <td>4.0</td>\n",
       "      <td>80.0</td>\n",
       "      <td>4.24</td>\n",
       "    </tr>\n",
       "    <tr>\n",
       "      <th>2</th>\n",
       "      <td>woemad</td>\n",
       "      <td>Stone Old Guardian Barley Wine Style Ale 2006</td>\n",
       "      <td>Stone Brewing Co.</td>\n",
       "      <td>American Barleywine</td>\n",
       "      <td>11.2</td>\n",
       "      <td>4</td>\n",
       "      <td>4.0</td>\n",
       "      <td>4.5</td>\n",
       "      <td>4.0</td>\n",
       "      <td>4.5</td>\n",
       "      <td>4.5</td>\n",
       "      <td>4.3</td>\n",
       "      <td>80.0</td>\n",
       "      <td>4.37</td>\n",
       "    </tr>\n",
       "    <tr>\n",
       "      <th>3</th>\n",
       "      <td>wnhay</td>\n",
       "      <td>Stone Old Guardian Barley Wine Style Ale 2006</td>\n",
       "      <td>Stone Brewing Co.</td>\n",
       "      <td>American Barleywine</td>\n",
       "      <td>11.2</td>\n",
       "      <td>4</td>\n",
       "      <td>4.0</td>\n",
       "      <td>4.0</td>\n",
       "      <td>4.5</td>\n",
       "      <td>4.0</td>\n",
       "      <td>4.0</td>\n",
       "      <td>4.1</td>\n",
       "      <td>80.0</td>\n",
       "      <td>4.03</td>\n",
       "    </tr>\n",
       "    <tr>\n",
       "      <th>4</th>\n",
       "      <td>williamherbert</td>\n",
       "      <td>Stone Old Guardian Barley Wine Style Ale 2006</td>\n",
       "      <td>Stone Brewing Co.</td>\n",
       "      <td>American Barleywine</td>\n",
       "      <td>11.2</td>\n",
       "      <td>4</td>\n",
       "      <td>3.0</td>\n",
       "      <td>3.0</td>\n",
       "      <td>4.5</td>\n",
       "      <td>3.0</td>\n",
       "      <td>3.5</td>\n",
       "      <td>3.4</td>\n",
       "      <td>80.0</td>\n",
       "      <td>3.29</td>\n",
       "    </tr>\n",
       "  </tbody>\n",
       "</table>\n",
       "</div>"
      ],
      "text/plain": [
       "  review_profilename                                      beer_name  \\\n",
       "0             zyzygy  Stone Old Guardian Barley Wine Style Ale 2006   \n",
       "1            ypsifly  Stone Old Guardian Barley Wine Style Ale 2006   \n",
       "2             woemad  Stone Old Guardian Barley Wine Style Ale 2006   \n",
       "3              wnhay  Stone Old Guardian Barley Wine Style Ale 2006   \n",
       "4     williamherbert  Stone Old Guardian Barley Wine Style Ale 2006   \n",
       "\n",
       "        brewery_name beer_advocates_style  beer_abv  abv_strength  \\\n",
       "0  Stone Brewing Co.  American Barleywine      11.2             4   \n",
       "1  Stone Brewing Co.  American Barleywine      11.2             4   \n",
       "2  Stone Brewing Co.  American Barleywine      11.2             4   \n",
       "3  Stone Brewing Co.  American Barleywine      11.2             4   \n",
       "4  Stone Brewing Co.  American Barleywine      11.2             4   \n",
       "\n",
       "   review_overall  review_aroma  review_appearance  review_palate  \\\n",
       "0             4.0           4.5                4.0            4.5   \n",
       "1             4.5           4.0                3.0            4.0   \n",
       "2             4.0           4.5                4.0            4.5   \n",
       "3             4.0           4.0                4.5            4.0   \n",
       "4             3.0           3.0                4.5            3.0   \n",
       "\n",
       "   review_taste  review_average  beer_style_ibu_avg  beeradvocate_score  \n",
       "0           4.5             4.3                80.0                4.37  \n",
       "1           4.5             4.0                80.0                4.24  \n",
       "2           4.5             4.3                80.0                4.37  \n",
       "3           4.0             4.1                80.0                4.03  \n",
       "4           3.5             3.4                80.0                3.29  "
      ]
     },
     "execution_count": 18,
     "metadata": {},
     "output_type": "execute_result"
    }
   ],
   "source": [
    "dfreviews.head()"
   ]
  },
  {
   "cell_type": "code",
   "execution_count": 19,
   "metadata": {},
   "outputs": [],
   "source": [
    "dfreviews['aroma_appearance_score'] = dfreviews.apply(lambda row:\\\n",
    "                                                         ((row['review_aroma'] * 0.40) + \\\n",
    "                                                          (row['review_appearance'] * 0.24) + \\\n",
    "                                                          (row['review_taste'] * 0.10) + \\\n",
    "                                                          (row['review_palate'] * 0.06) + \\\n",
    "                                                          (row['review_overall'] * 0.20)), \\\n",
    "                                                         axis=1)"
   ]
  },
  {
   "cell_type": "code",
   "execution_count": 20,
   "metadata": {
    "scrolled": true
   },
   "outputs": [
    {
     "data": {
      "text/html": [
       "<div>\n",
       "<style scoped>\n",
       "    .dataframe tbody tr th:only-of-type {\n",
       "        vertical-align: middle;\n",
       "    }\n",
       "\n",
       "    .dataframe tbody tr th {\n",
       "        vertical-align: top;\n",
       "    }\n",
       "\n",
       "    .dataframe thead th {\n",
       "        text-align: right;\n",
       "    }\n",
       "</style>\n",
       "<table border=\"1\" class=\"dataframe\">\n",
       "  <thead>\n",
       "    <tr style=\"text-align: right;\">\n",
       "      <th></th>\n",
       "      <th>review_profilename</th>\n",
       "      <th>beer_name</th>\n",
       "      <th>brewery_name</th>\n",
       "      <th>beer_advocates_style</th>\n",
       "      <th>beer_abv</th>\n",
       "      <th>abv_strength</th>\n",
       "      <th>review_overall</th>\n",
       "      <th>review_aroma</th>\n",
       "      <th>review_appearance</th>\n",
       "      <th>review_palate</th>\n",
       "      <th>review_taste</th>\n",
       "      <th>review_average</th>\n",
       "      <th>beer_style_ibu_avg</th>\n",
       "      <th>beeradvocate_score</th>\n",
       "      <th>aroma_appearance_score</th>\n",
       "    </tr>\n",
       "  </thead>\n",
       "  <tbody>\n",
       "    <tr>\n",
       "      <th>1301168</th>\n",
       "      <td>BuckeyeNation</td>\n",
       "      <td>Point Spring Bock</td>\n",
       "      <td>Stevens Point Brewery</td>\n",
       "      <td>German Bock</td>\n",
       "      <td>5.2</td>\n",
       "      <td>2</td>\n",
       "      <td>3.5</td>\n",
       "      <td>3.0</td>\n",
       "      <td>4.0</td>\n",
       "      <td>2.5</td>\n",
       "      <td>3.0</td>\n",
       "      <td>3.2</td>\n",
       "      <td>25.0</td>\n",
       "      <td>3.11</td>\n",
       "      <td>3.31</td>\n",
       "    </tr>\n",
       "    <tr>\n",
       "      <th>1301169</th>\n",
       "      <td>Bighuge</td>\n",
       "      <td>Point Spring Bock</td>\n",
       "      <td>Stevens Point Brewery</td>\n",
       "      <td>German Bock</td>\n",
       "      <td>5.2</td>\n",
       "      <td>2</td>\n",
       "      <td>4.5</td>\n",
       "      <td>4.0</td>\n",
       "      <td>4.0</td>\n",
       "      <td>3.5</td>\n",
       "      <td>4.0</td>\n",
       "      <td>4.0</td>\n",
       "      <td>25.0</td>\n",
       "      <td>4.05</td>\n",
       "      <td>4.07</td>\n",
       "    </tr>\n",
       "    <tr>\n",
       "      <th>1301170</th>\n",
       "      <td>Beerwolf17</td>\n",
       "      <td>Point Spring Bock</td>\n",
       "      <td>Stevens Point Brewery</td>\n",
       "      <td>German Bock</td>\n",
       "      <td>5.2</td>\n",
       "      <td>2</td>\n",
       "      <td>4.0</td>\n",
       "      <td>3.0</td>\n",
       "      <td>3.5</td>\n",
       "      <td>4.0</td>\n",
       "      <td>3.0</td>\n",
       "      <td>3.5</td>\n",
       "      <td>25.0</td>\n",
       "      <td>3.33</td>\n",
       "      <td>3.38</td>\n",
       "    </tr>\n",
       "    <tr>\n",
       "      <th>1301171</th>\n",
       "      <td>Atron67</td>\n",
       "      <td>Point Spring Bock</td>\n",
       "      <td>Stevens Point Brewery</td>\n",
       "      <td>German Bock</td>\n",
       "      <td>5.2</td>\n",
       "      <td>2</td>\n",
       "      <td>3.5</td>\n",
       "      <td>2.5</td>\n",
       "      <td>3.0</td>\n",
       "      <td>4.0</td>\n",
       "      <td>4.0</td>\n",
       "      <td>3.4</td>\n",
       "      <td>25.0</td>\n",
       "      <td>3.48</td>\n",
       "      <td>3.06</td>\n",
       "    </tr>\n",
       "    <tr>\n",
       "      <th>1301172</th>\n",
       "      <td>ADR</td>\n",
       "      <td>Point Spring Bock</td>\n",
       "      <td>Stevens Point Brewery</td>\n",
       "      <td>German Bock</td>\n",
       "      <td>5.2</td>\n",
       "      <td>2</td>\n",
       "      <td>4.0</td>\n",
       "      <td>4.5</td>\n",
       "      <td>4.0</td>\n",
       "      <td>3.0</td>\n",
       "      <td>3.5</td>\n",
       "      <td>3.8</td>\n",
       "      <td>25.0</td>\n",
       "      <td>3.82</td>\n",
       "      <td>4.09</td>\n",
       "    </tr>\n",
       "  </tbody>\n",
       "</table>\n",
       "</div>"
      ],
      "text/plain": [
       "        review_profilename          beer_name           brewery_name  \\\n",
       "1301168      BuckeyeNation  Point Spring Bock  Stevens Point Brewery   \n",
       "1301169            Bighuge  Point Spring Bock  Stevens Point Brewery   \n",
       "1301170         Beerwolf17  Point Spring Bock  Stevens Point Brewery   \n",
       "1301171            Atron67  Point Spring Bock  Stevens Point Brewery   \n",
       "1301172                ADR  Point Spring Bock  Stevens Point Brewery   \n",
       "\n",
       "        beer_advocates_style  beer_abv  abv_strength  review_overall  \\\n",
       "1301168          German Bock       5.2             2             3.5   \n",
       "1301169          German Bock       5.2             2             4.5   \n",
       "1301170          German Bock       5.2             2             4.0   \n",
       "1301171          German Bock       5.2             2             3.5   \n",
       "1301172          German Bock       5.2             2             4.0   \n",
       "\n",
       "         review_aroma  review_appearance  review_palate  review_taste  \\\n",
       "1301168           3.0                4.0            2.5           3.0   \n",
       "1301169           4.0                4.0            3.5           4.0   \n",
       "1301170           3.0                3.5            4.0           3.0   \n",
       "1301171           2.5                3.0            4.0           4.0   \n",
       "1301172           4.5                4.0            3.0           3.5   \n",
       "\n",
       "         review_average  beer_style_ibu_avg  beeradvocate_score  \\\n",
       "1301168             3.2                25.0                3.11   \n",
       "1301169             4.0                25.0                4.05   \n",
       "1301170             3.5                25.0                3.33   \n",
       "1301171             3.4                25.0                3.48   \n",
       "1301172             3.8                25.0                3.82   \n",
       "\n",
       "         aroma_appearance_score  \n",
       "1301168                    3.31  \n",
       "1301169                    4.07  \n",
       "1301170                    3.38  \n",
       "1301171                    3.06  \n",
       "1301172                    4.09  "
      ]
     },
     "execution_count": 20,
     "metadata": {},
     "output_type": "execute_result"
    }
   ],
   "source": [
    "dfreviews.tail()"
   ]
  },
  {
   "cell_type": "code",
   "execution_count": 21,
   "metadata": {},
   "outputs": [
    {
     "name": "stdout",
     "output_type": "stream",
     "text": [
      "<class 'pandas.core.frame.DataFrame'>\n",
      "RangeIndex: 1301173 entries, 0 to 1301172\n",
      "Data columns (total 15 columns):\n",
      "review_profilename        1301173 non-null category\n",
      "beer_name                 1301173 non-null category\n",
      "brewery_name              1301173 non-null category\n",
      "beer_advocates_style      1301173 non-null category\n",
      "beer_abv                  1301173 non-null float64\n",
      "abv_strength              1301173 non-null int64\n",
      "review_overall            1301173 non-null float64\n",
      "review_aroma              1301173 non-null float64\n",
      "review_appearance         1301173 non-null float64\n",
      "review_palate             1301173 non-null float64\n",
      "review_taste              1301173 non-null float64\n",
      "review_average            1301173 non-null float64\n",
      "beer_style_ibu_avg        1301173 non-null float64\n",
      "beeradvocate_score        1301173 non-null float64\n",
      "aroma_appearance_score    1301173 non-null float64\n",
      "dtypes: category(4), float64(10), int64(1)\n",
      "memory usage: 119.8 MB\n"
     ]
    }
   ],
   "source": [
    "dfreviews.info()"
   ]
  },
  {
   "cell_type": "markdown",
   "metadata": {},
   "source": [
    "### CREAREMOS UNA NUEVA COLUMNA 'beer_id'"
   ]
  },
  {
   "cell_type": "code",
   "execution_count": 22,
   "metadata": {
    "scrolled": true
   },
   "outputs": [
    {
     "data": {
      "text/plain": [
       "6504"
      ]
     },
     "execution_count": 22,
     "metadata": {},
     "output_type": "execute_result"
    }
   ],
   "source": [
    "# TENEMNOS 6504 CERVEZAS DISTINTAS\n",
    "len(dfreviews['beer_name'].unique())"
   ]
  },
  {
   "cell_type": "code",
   "execution_count": 23,
   "metadata": {},
   "outputs": [
    {
     "data": {
      "text/html": [
       "<div>\n",
       "<style scoped>\n",
       "    .dataframe tbody tr th:only-of-type {\n",
       "        vertical-align: middle;\n",
       "    }\n",
       "\n",
       "    .dataframe tbody tr th {\n",
       "        vertical-align: top;\n",
       "    }\n",
       "\n",
       "    .dataframe thead th {\n",
       "        text-align: right;\n",
       "    }\n",
       "</style>\n",
       "<table border=\"1\" class=\"dataframe\">\n",
       "  <thead>\n",
       "    <tr style=\"text-align: right;\">\n",
       "      <th></th>\n",
       "      <th>beer_name</th>\n",
       "    </tr>\n",
       "  </thead>\n",
       "  <tbody>\n",
       "    <tr>\n",
       "      <th>0</th>\n",
       "      <td>Stone Old Guardian Barley Wine Style Ale 2006</td>\n",
       "    </tr>\n",
       "    <tr>\n",
       "      <th>1</th>\n",
       "      <td>Samuel Adams Brown Ale</td>\n",
       "    </tr>\n",
       "    <tr>\n",
       "      <th>2</th>\n",
       "      <td>Hennepin (Farmhouse Saison)</td>\n",
       "    </tr>\n",
       "    <tr>\n",
       "      <th>3</th>\n",
       "      <td>Double Bag</td>\n",
       "    </tr>\n",
       "    <tr>\n",
       "      <th>4</th>\n",
       "      <td>Berkshire Russian Imperial Stout</td>\n",
       "    </tr>\n",
       "  </tbody>\n",
       "</table>\n",
       "</div>"
      ],
      "text/plain": [
       "                                       beer_name\n",
       "0  Stone Old Guardian Barley Wine Style Ale 2006\n",
       "1                         Samuel Adams Brown Ale\n",
       "2                    Hennepin (Farmhouse Saison)\n",
       "3                                     Double Bag\n",
       "4               Berkshire Russian Imperial Stout"
      ]
     },
     "execution_count": 23,
     "metadata": {},
     "output_type": "execute_result"
    }
   ],
   "source": [
    "beerdf = pd.Series(dfreviews['beer_name'].unique()) \\\n",
    "                   .to_frame() \\\n",
    "                   .rename(columns = {0: 'beer_name'})\n",
    "beerdf.head()"
   ]
  },
  {
   "cell_type": "code",
   "execution_count": 24,
   "metadata": {},
   "outputs": [
    {
     "data": {
      "text/html": [
       "<div>\n",
       "<style scoped>\n",
       "    .dataframe tbody tr th:only-of-type {\n",
       "        vertical-align: middle;\n",
       "    }\n",
       "\n",
       "    .dataframe tbody tr th {\n",
       "        vertical-align: top;\n",
       "    }\n",
       "\n",
       "    .dataframe thead th {\n",
       "        text-align: right;\n",
       "    }\n",
       "</style>\n",
       "<table border=\"1\" class=\"dataframe\">\n",
       "  <thead>\n",
       "    <tr style=\"text-align: right;\">\n",
       "      <th></th>\n",
       "      <th>beer_id</th>\n",
       "      <th>beer_name</th>\n",
       "    </tr>\n",
       "  </thead>\n",
       "  <tbody>\n",
       "    <tr>\n",
       "      <th>0</th>\n",
       "      <td>0</td>\n",
       "      <td>Stone Old Guardian Barley Wine Style Ale 2006</td>\n",
       "    </tr>\n",
       "    <tr>\n",
       "      <th>1</th>\n",
       "      <td>1</td>\n",
       "      <td>Samuel Adams Brown Ale</td>\n",
       "    </tr>\n",
       "    <tr>\n",
       "      <th>2</th>\n",
       "      <td>2</td>\n",
       "      <td>Hennepin (Farmhouse Saison)</td>\n",
       "    </tr>\n",
       "    <tr>\n",
       "      <th>3</th>\n",
       "      <td>3</td>\n",
       "      <td>Double Bag</td>\n",
       "    </tr>\n",
       "    <tr>\n",
       "      <th>4</th>\n",
       "      <td>4</td>\n",
       "      <td>Berkshire Russian Imperial Stout</td>\n",
       "    </tr>\n",
       "  </tbody>\n",
       "</table>\n",
       "</div>"
      ],
      "text/plain": [
       "   beer_id                                      beer_name\n",
       "0        0  Stone Old Guardian Barley Wine Style Ale 2006\n",
       "1        1                         Samuel Adams Brown Ale\n",
       "2        2                    Hennepin (Farmhouse Saison)\n",
       "3        3                                     Double Bag\n",
       "4        4               Berkshire Russian Imperial Stout"
      ]
     },
     "execution_count": 24,
     "metadata": {},
     "output_type": "execute_result"
    }
   ],
   "source": [
    "beerdf = beerdf.reset_index().rename(columns = {'index': 'beer_id'})\n",
    "beerdf.head()"
   ]
  },
  {
   "cell_type": "markdown",
   "metadata": {},
   "source": [
    "'beer_df' Tambien es tipo 'category' en Dataframe beerdf y hara mas rapida la creacion de la nueva columna 'beer_id' en el dataframe dfreviews"
   ]
  },
  {
   "cell_type": "code",
   "execution_count": 101,
   "metadata": {},
   "outputs": [
    {
     "name": "stdout",
     "output_type": "stream",
     "text": [
      "<class 'pandas.core.frame.DataFrame'>\n",
      "RangeIndex: 6504 entries, 0 to 6503\n",
      "Data columns (total 2 columns):\n",
      "beer_id      6504 non-null int64\n",
      "beer_name    6504 non-null category\n",
      "dtypes: category(1), int64(1)\n",
      "memory usage: 434.4 KB\n"
     ]
    }
   ],
   "source": [
    "# 6504 CERVEZAS DISTINTAS\n",
    "beerdf.info()"
   ]
  },
  {
   "cell_type": "code",
   "execution_count": 100,
   "metadata": {},
   "outputs": [],
   "source": [
    "import warnings\n",
    "\n",
    "def get_beer_id(beer_name):\n",
    "    # FALLA PARA 'Double Bag Y FUNCIONA ok PARA 'Samuel Adams Brown Ale'\n",
    "    #return beerdf[beerdf['beer_name'] == beer_name]['beer_id'][1]\n",
    "    # CONSIGO EL VALOR DEL INDICE DENTRO DEL ndarray DONDE SE ALMACENA EL ELEMENTO CON beer_name'\n",
    "    tuple_result = np.where(beerdf == beer_name)\n",
    "    # ESTA COMPARACION DEVUELVE UN WARNING POR UN PROBLEMA NO RESUELTO REPORTADO ENTRE numpy y Python\n",
    "    # https://stackoverflow.com/questions/40659212/futurewarning-elementwise-comparison-failed-returning-scalar-but-in-the-futur\n",
    "    empty_list = list([])\n",
    "    with warnings.catch_warnings():\n",
    "        warnings.simplefilter(action='ignore', category=FutureWarning)\n",
    "        # SIEMPRE ENCONTRARA 'beer_style' PERO SI NO...\n",
    "        if list(tuple_result[0]) == empty_list:\n",
    "            return \"\"\n",
    "        else:\n",
    "            return tuple_result[0][0]"
   ]
  },
  {
   "cell_type": "code",
   "execution_count": 102,
   "metadata": {},
   "outputs": [
    {
     "data": {
      "text/plain": [
       "3"
      ]
     },
     "execution_count": 102,
     "metadata": {},
     "output_type": "execute_result"
    }
   ],
   "source": [
    "get_beer_id('Double Bag')"
   ]
  },
  {
   "cell_type": "code",
   "execution_count": 103,
   "metadata": {},
   "outputs": [
    {
     "data": {
      "text/html": [
       "<div>\n",
       "<style scoped>\n",
       "    .dataframe tbody tr th:only-of-type {\n",
       "        vertical-align: middle;\n",
       "    }\n",
       "\n",
       "    .dataframe tbody tr th {\n",
       "        vertical-align: top;\n",
       "    }\n",
       "\n",
       "    .dataframe thead th {\n",
       "        text-align: right;\n",
       "    }\n",
       "</style>\n",
       "<table border=\"1\" class=\"dataframe\">\n",
       "  <thead>\n",
       "    <tr style=\"text-align: right;\">\n",
       "      <th></th>\n",
       "      <th>beer_id</th>\n",
       "      <th>beer_name</th>\n",
       "    </tr>\n",
       "  </thead>\n",
       "  <tbody>\n",
       "    <tr>\n",
       "      <th>3</th>\n",
       "      <td>3</td>\n",
       "      <td>Double Bag</td>\n",
       "    </tr>\n",
       "  </tbody>\n",
       "</table>\n",
       "</div>"
      ],
      "text/plain": [
       "   beer_id   beer_name\n",
       "3        3  Double Bag"
      ]
     },
     "execution_count": 103,
     "metadata": {},
     "output_type": "execute_result"
    }
   ],
   "source": [
    "beerdf[beerdf['beer_name'] == 'Double Bag']"
   ]
  },
  {
   "cell_type": "code",
   "execution_count": 104,
   "metadata": {},
   "outputs": [
    {
     "data": {
      "text/plain": [
       "1"
      ]
     },
     "execution_count": 104,
     "metadata": {},
     "output_type": "execute_result"
    }
   ],
   "source": [
    "get_beer_id('Samuel Adams Brown Ale')"
   ]
  },
  {
   "cell_type": "code",
   "execution_count": 105,
   "metadata": {},
   "outputs": [
    {
     "data": {
      "text/html": [
       "<div>\n",
       "<style scoped>\n",
       "    .dataframe tbody tr th:only-of-type {\n",
       "        vertical-align: middle;\n",
       "    }\n",
       "\n",
       "    .dataframe tbody tr th {\n",
       "        vertical-align: top;\n",
       "    }\n",
       "\n",
       "    .dataframe thead th {\n",
       "        text-align: right;\n",
       "    }\n",
       "</style>\n",
       "<table border=\"1\" class=\"dataframe\">\n",
       "  <thead>\n",
       "    <tr style=\"text-align: right;\">\n",
       "      <th></th>\n",
       "      <th>beer_id</th>\n",
       "      <th>beer_name</th>\n",
       "    </tr>\n",
       "  </thead>\n",
       "  <tbody>\n",
       "    <tr>\n",
       "      <th>1</th>\n",
       "      <td>1</td>\n",
       "      <td>Samuel Adams Brown Ale</td>\n",
       "    </tr>\n",
       "  </tbody>\n",
       "</table>\n",
       "</div>"
      ],
      "text/plain": [
       "   beer_id               beer_name\n",
       "1        1  Samuel Adams Brown Ale"
      ]
     },
     "execution_count": 105,
     "metadata": {},
     "output_type": "execute_result"
    }
   ],
   "source": [
    "beerdf[beerdf['beer_name'] == 'Samuel Adams Brown Ale']"
   ]
  },
  {
   "cell_type": "code",
   "execution_count": 106,
   "metadata": {},
   "outputs": [
    {
     "data": {
      "text/plain": [
       "''"
      ]
     },
     "execution_count": 106,
     "metadata": {},
     "output_type": "execute_result"
    }
   ],
   "source": [
    "get_beer_id('Unknown Beer Style')"
   ]
  },
  {
   "cell_type": "code",
   "execution_count": 107,
   "metadata": {},
   "outputs": [],
   "source": [
    "dfreviewsAux = dfreviews.copy()"
   ]
  },
  {
   "cell_type": "code",
   "execution_count": 108,
   "metadata": {},
   "outputs": [],
   "source": [
    "dfreviewsAux['beer_id'] = dfreviewsAux.apply(lambda row: \\\n",
    "                                             get_beer_id(row['beer_name']), \\\n",
    "                                             axis=1)"
   ]
  },
  {
   "cell_type": "code",
   "execution_count": 109,
   "metadata": {},
   "outputs": [
    {
     "data": {
      "text/html": [
       "<div>\n",
       "<style scoped>\n",
       "    .dataframe tbody tr th:only-of-type {\n",
       "        vertical-align: middle;\n",
       "    }\n",
       "\n",
       "    .dataframe tbody tr th {\n",
       "        vertical-align: top;\n",
       "    }\n",
       "\n",
       "    .dataframe thead th {\n",
       "        text-align: right;\n",
       "    }\n",
       "</style>\n",
       "<table border=\"1\" class=\"dataframe\">\n",
       "  <thead>\n",
       "    <tr style=\"text-align: right;\">\n",
       "      <th></th>\n",
       "      <th>review_profilename</th>\n",
       "      <th>beer_name</th>\n",
       "      <th>brewery_name</th>\n",
       "      <th>beer_advocates_style</th>\n",
       "      <th>beer_abv</th>\n",
       "      <th>abv_strength</th>\n",
       "      <th>review_overall</th>\n",
       "      <th>review_aroma</th>\n",
       "      <th>review_appearance</th>\n",
       "      <th>review_palate</th>\n",
       "      <th>review_taste</th>\n",
       "      <th>review_average</th>\n",
       "      <th>beer_style_ibu_avg</th>\n",
       "      <th>beeradvocate_score</th>\n",
       "      <th>aroma_appearance_score</th>\n",
       "      <th>beer_id</th>\n",
       "    </tr>\n",
       "  </thead>\n",
       "  <tbody>\n",
       "    <tr>\n",
       "      <th>0</th>\n",
       "      <td>zyzygy</td>\n",
       "      <td>Stone Old Guardian Barley Wine Style Ale 2006</td>\n",
       "      <td>Stone Brewing Co.</td>\n",
       "      <td>American Barleywine</td>\n",
       "      <td>11.2</td>\n",
       "      <td>4</td>\n",
       "      <td>4.0</td>\n",
       "      <td>4.5</td>\n",
       "      <td>4.0</td>\n",
       "      <td>4.5</td>\n",
       "      <td>4.5</td>\n",
       "      <td>4.3</td>\n",
       "      <td>80.0</td>\n",
       "      <td>4.37</td>\n",
       "      <td>4.28</td>\n",
       "      <td>0</td>\n",
       "    </tr>\n",
       "    <tr>\n",
       "      <th>1</th>\n",
       "      <td>ypsifly</td>\n",
       "      <td>Stone Old Guardian Barley Wine Style Ale 2006</td>\n",
       "      <td>Stone Brewing Co.</td>\n",
       "      <td>American Barleywine</td>\n",
       "      <td>11.2</td>\n",
       "      <td>4</td>\n",
       "      <td>4.5</td>\n",
       "      <td>4.0</td>\n",
       "      <td>3.0</td>\n",
       "      <td>4.0</td>\n",
       "      <td>4.5</td>\n",
       "      <td>4.0</td>\n",
       "      <td>80.0</td>\n",
       "      <td>4.24</td>\n",
       "      <td>3.91</td>\n",
       "      <td>0</td>\n",
       "    </tr>\n",
       "    <tr>\n",
       "      <th>2</th>\n",
       "      <td>woemad</td>\n",
       "      <td>Stone Old Guardian Barley Wine Style Ale 2006</td>\n",
       "      <td>Stone Brewing Co.</td>\n",
       "      <td>American Barleywine</td>\n",
       "      <td>11.2</td>\n",
       "      <td>4</td>\n",
       "      <td>4.0</td>\n",
       "      <td>4.5</td>\n",
       "      <td>4.0</td>\n",
       "      <td>4.5</td>\n",
       "      <td>4.5</td>\n",
       "      <td>4.3</td>\n",
       "      <td>80.0</td>\n",
       "      <td>4.37</td>\n",
       "      <td>4.28</td>\n",
       "      <td>0</td>\n",
       "    </tr>\n",
       "    <tr>\n",
       "      <th>3</th>\n",
       "      <td>wnhay</td>\n",
       "      <td>Stone Old Guardian Barley Wine Style Ale 2006</td>\n",
       "      <td>Stone Brewing Co.</td>\n",
       "      <td>American Barleywine</td>\n",
       "      <td>11.2</td>\n",
       "      <td>4</td>\n",
       "      <td>4.0</td>\n",
       "      <td>4.0</td>\n",
       "      <td>4.5</td>\n",
       "      <td>4.0</td>\n",
       "      <td>4.0</td>\n",
       "      <td>4.1</td>\n",
       "      <td>80.0</td>\n",
       "      <td>4.03</td>\n",
       "      <td>4.12</td>\n",
       "      <td>0</td>\n",
       "    </tr>\n",
       "    <tr>\n",
       "      <th>4</th>\n",
       "      <td>williamherbert</td>\n",
       "      <td>Stone Old Guardian Barley Wine Style Ale 2006</td>\n",
       "      <td>Stone Brewing Co.</td>\n",
       "      <td>American Barleywine</td>\n",
       "      <td>11.2</td>\n",
       "      <td>4</td>\n",
       "      <td>3.0</td>\n",
       "      <td>3.0</td>\n",
       "      <td>4.5</td>\n",
       "      <td>3.0</td>\n",
       "      <td>3.5</td>\n",
       "      <td>3.4</td>\n",
       "      <td>80.0</td>\n",
       "      <td>3.29</td>\n",
       "      <td>3.41</td>\n",
       "      <td>0</td>\n",
       "    </tr>\n",
       "  </tbody>\n",
       "</table>\n",
       "</div>"
      ],
      "text/plain": [
       "  review_profilename                                      beer_name  \\\n",
       "0             zyzygy  Stone Old Guardian Barley Wine Style Ale 2006   \n",
       "1            ypsifly  Stone Old Guardian Barley Wine Style Ale 2006   \n",
       "2             woemad  Stone Old Guardian Barley Wine Style Ale 2006   \n",
       "3              wnhay  Stone Old Guardian Barley Wine Style Ale 2006   \n",
       "4     williamherbert  Stone Old Guardian Barley Wine Style Ale 2006   \n",
       "\n",
       "        brewery_name beer_advocates_style  beer_abv  abv_strength  \\\n",
       "0  Stone Brewing Co.  American Barleywine      11.2             4   \n",
       "1  Stone Brewing Co.  American Barleywine      11.2             4   \n",
       "2  Stone Brewing Co.  American Barleywine      11.2             4   \n",
       "3  Stone Brewing Co.  American Barleywine      11.2             4   \n",
       "4  Stone Brewing Co.  American Barleywine      11.2             4   \n",
       "\n",
       "   review_overall  review_aroma  review_appearance  review_palate  \\\n",
       "0             4.0           4.5                4.0            4.5   \n",
       "1             4.5           4.0                3.0            4.0   \n",
       "2             4.0           4.5                4.0            4.5   \n",
       "3             4.0           4.0                4.5            4.0   \n",
       "4             3.0           3.0                4.5            3.0   \n",
       "\n",
       "   review_taste  review_average  beer_style_ibu_avg  beeradvocate_score  \\\n",
       "0           4.5             4.3                80.0                4.37   \n",
       "1           4.5             4.0                80.0                4.24   \n",
       "2           4.5             4.3                80.0                4.37   \n",
       "3           4.0             4.1                80.0                4.03   \n",
       "4           3.5             3.4                80.0                3.29   \n",
       "\n",
       "   aroma_appearance_score  beer_id  \n",
       "0                    4.28        0  \n",
       "1                    3.91        0  \n",
       "2                    4.28        0  \n",
       "3                    4.12        0  \n",
       "4                    3.41        0  "
      ]
     },
     "execution_count": 109,
     "metadata": {},
     "output_type": "execute_result"
    }
   ],
   "source": [
    "dfreviewsAux.head()"
   ]
  },
  {
   "cell_type": "code",
   "execution_count": 119,
   "metadata": {},
   "outputs": [
    {
     "data": {
      "text/plain": [
       "3"
      ]
     },
     "execution_count": 119,
     "metadata": {},
     "output_type": "execute_result"
    }
   ],
   "source": [
    "dfreviewsAux[dfreviewsAux['beer_name'] == 'Double Bag']['beer_id'].unique()[0]"
   ]
  },
  {
   "cell_type": "code",
   "execution_count": 120,
   "metadata": {},
   "outputs": [
    {
     "data": {
      "text/plain": [
       "1"
      ]
     },
     "execution_count": 120,
     "metadata": {},
     "output_type": "execute_result"
    }
   ],
   "source": [
    "dfreviewsAux[dfreviewsAux['beer_name'] == 'Samuel Adams Brown Ale']['beer_id'].unique()[0]"
   ]
  },
  {
   "cell_type": "markdown",
   "metadata": {},
   "source": [
    "'review_profilename' Tambien es tipo 'category' en Dataframe userdf y hara mas rapida la creacion de la nueva columna 'user_id' en el dataframe dfreviews"
   ]
  },
  {
   "cell_type": "code",
   "execution_count": 121,
   "metadata": {},
   "outputs": [
    {
     "name": "stdout",
     "output_type": "stream",
     "text": [
      "<class 'pandas.core.frame.DataFrame'>\n",
      "RangeIndex: 1301173 entries, 0 to 1301172\n",
      "Data columns (total 16 columns):\n",
      "review_profilename        1301173 non-null category\n",
      "beer_name                 1301173 non-null category\n",
      "brewery_name              1301173 non-null category\n",
      "beer_advocates_style      1301173 non-null category\n",
      "beer_abv                  1301173 non-null float64\n",
      "abv_strength              1301173 non-null int64\n",
      "review_overall            1301173 non-null float64\n",
      "review_aroma              1301173 non-null float64\n",
      "review_appearance         1301173 non-null float64\n",
      "review_palate             1301173 non-null float64\n",
      "review_taste              1301173 non-null float64\n",
      "review_average            1301173 non-null float64\n",
      "beer_style_ibu_avg        1301173 non-null float64\n",
      "beeradvocate_score        1301173 non-null float64\n",
      "aroma_appearance_score    1301173 non-null float64\n",
      "beer_id                   1301173 non-null int64\n",
      "dtypes: category(4), float64(10), int64(2)\n",
      "memory usage: 129.8 MB\n"
     ]
    }
   ],
   "source": [
    "dfreviewsAux.info()"
   ]
  },
  {
   "cell_type": "code",
   "execution_count": 122,
   "metadata": {},
   "outputs": [],
   "source": [
    "dfreviews = dfreviewsAux.copy()"
   ]
  },
  {
   "cell_type": "markdown",
   "metadata": {},
   "source": [
    "### CREAREMOS Y AÑADIREMOS UNA COLUMNA 'user_id'"
   ]
  },
  {
   "cell_type": "code",
   "execution_count": 138,
   "metadata": {
    "scrolled": true
   },
   "outputs": [
    {
     "data": {
      "text/plain": [
       "30810"
      ]
     },
     "execution_count": 138,
     "metadata": {},
     "output_type": "execute_result"
    }
   ],
   "source": [
    "# TENEMOS 30810 USUARIOS DISTINTOS\n",
    "len(dfreviews['review_profilename'].unique())"
   ]
  },
  {
   "cell_type": "code",
   "execution_count": 123,
   "metadata": {},
   "outputs": [
    {
     "data": {
      "text/html": [
       "<div>\n",
       "<style scoped>\n",
       "    .dataframe tbody tr th:only-of-type {\n",
       "        vertical-align: middle;\n",
       "    }\n",
       "\n",
       "    .dataframe tbody tr th {\n",
       "        vertical-align: top;\n",
       "    }\n",
       "\n",
       "    .dataframe thead th {\n",
       "        text-align: right;\n",
       "    }\n",
       "</style>\n",
       "<table border=\"1\" class=\"dataframe\">\n",
       "  <thead>\n",
       "    <tr style=\"text-align: right;\">\n",
       "      <th></th>\n",
       "      <th>review_profilename</th>\n",
       "    </tr>\n",
       "  </thead>\n",
       "  <tbody>\n",
       "    <tr>\n",
       "      <th>0</th>\n",
       "      <td>zyzygy</td>\n",
       "    </tr>\n",
       "    <tr>\n",
       "      <th>1</th>\n",
       "      <td>ypsifly</td>\n",
       "    </tr>\n",
       "    <tr>\n",
       "      <th>2</th>\n",
       "      <td>woemad</td>\n",
       "    </tr>\n",
       "    <tr>\n",
       "      <th>3</th>\n",
       "      <td>wnhay</td>\n",
       "    </tr>\n",
       "    <tr>\n",
       "      <th>4</th>\n",
       "      <td>williamherbert</td>\n",
       "    </tr>\n",
       "  </tbody>\n",
       "</table>\n",
       "</div>"
      ],
      "text/plain": [
       "  review_profilename\n",
       "0             zyzygy\n",
       "1            ypsifly\n",
       "2             woemad\n",
       "3              wnhay\n",
       "4     williamherbert"
      ]
     },
     "execution_count": 123,
     "metadata": {},
     "output_type": "execute_result"
    }
   ],
   "source": [
    "userdf = pd.Series(dfreviews['review_profilename'].unique()) \\\n",
    "                   .to_frame() \\\n",
    "                   .rename(columns = {0: 'review_profilename'})\n",
    "userdf.head()"
   ]
  },
  {
   "cell_type": "code",
   "execution_count": 124,
   "metadata": {},
   "outputs": [
    {
     "data": {
      "text/html": [
       "<div>\n",
       "<style scoped>\n",
       "    .dataframe tbody tr th:only-of-type {\n",
       "        vertical-align: middle;\n",
       "    }\n",
       "\n",
       "    .dataframe tbody tr th {\n",
       "        vertical-align: top;\n",
       "    }\n",
       "\n",
       "    .dataframe thead th {\n",
       "        text-align: right;\n",
       "    }\n",
       "</style>\n",
       "<table border=\"1\" class=\"dataframe\">\n",
       "  <thead>\n",
       "    <tr style=\"text-align: right;\">\n",
       "      <th></th>\n",
       "      <th>user_id</th>\n",
       "      <th>review_profilename</th>\n",
       "    </tr>\n",
       "  </thead>\n",
       "  <tbody>\n",
       "    <tr>\n",
       "      <th>0</th>\n",
       "      <td>0</td>\n",
       "      <td>zyzygy</td>\n",
       "    </tr>\n",
       "    <tr>\n",
       "      <th>1</th>\n",
       "      <td>1</td>\n",
       "      <td>ypsifly</td>\n",
       "    </tr>\n",
       "    <tr>\n",
       "      <th>2</th>\n",
       "      <td>2</td>\n",
       "      <td>woemad</td>\n",
       "    </tr>\n",
       "    <tr>\n",
       "      <th>3</th>\n",
       "      <td>3</td>\n",
       "      <td>wnhay</td>\n",
       "    </tr>\n",
       "    <tr>\n",
       "      <th>4</th>\n",
       "      <td>4</td>\n",
       "      <td>williamherbert</td>\n",
       "    </tr>\n",
       "  </tbody>\n",
       "</table>\n",
       "</div>"
      ],
      "text/plain": [
       "   user_id review_profilename\n",
       "0        0             zyzygy\n",
       "1        1            ypsifly\n",
       "2        2             woemad\n",
       "3        3              wnhay\n",
       "4        4     williamherbert"
      ]
     },
     "execution_count": 124,
     "metadata": {},
     "output_type": "execute_result"
    }
   ],
   "source": [
    "userdf = userdf.reset_index().rename(columns = {'index': 'user_id'})\n",
    "userdf.head()"
   ]
  },
  {
   "cell_type": "code",
   "execution_count": 125,
   "metadata": {},
   "outputs": [
    {
     "name": "stdout",
     "output_type": "stream",
     "text": [
      "<class 'pandas.core.frame.DataFrame'>\n",
      "RangeIndex: 30810 entries, 0 to 30809\n",
      "Data columns (total 2 columns):\n",
      "user_id               30810 non-null int64\n",
      "review_profilename    30810 non-null category\n",
      "dtypes: category(1), int64(1)\n",
      "memory usage: 1.8 MB\n"
     ]
    }
   ],
   "source": [
    "# 30810 USUARIOS DISTINTOS\n",
    "userdf.info()"
   ]
  },
  {
   "cell_type": "code",
   "execution_count": 126,
   "metadata": {},
   "outputs": [],
   "source": [
    "import warnings\n",
    "\n",
    "def get_user_id(user_name):\n",
    "    # CONSIGO EL VALOR DEL INDICE DENTRO DEL ndarray DONDE SE ALMACENA EL ELEMENTO CON beer_name'\n",
    "    tuple_result = np.where(userdf == user_name)\n",
    "    # ESTA COMPARACION DEVUELVE UN WARNING POR UN PROBLEMA NO RESUELTO REPORTADO ENTRE numpy y Python\n",
    "    # https://stackoverflow.com/questions/40659212/futurewarning-elementwise-comparison-failed-returning-scalar-but-in-the-futur\n",
    "    empty_list = list([])\n",
    "    with warnings.catch_warnings():\n",
    "        warnings.simplefilter(action='ignore', category=FutureWarning)\n",
    "        # SIEMPRE ENCONTRARA 'user_name' PERO SI NO...\n",
    "        if list(tuple_result[0]) == empty_list:\n",
    "            return \"\"\n",
    "        else:\n",
    "            return tuple_result[0][0]"
   ]
  },
  {
   "cell_type": "code",
   "execution_count": 128,
   "metadata": {},
   "outputs": [
    {
     "data": {
      "text/plain": [
       "1"
      ]
     },
     "execution_count": 128,
     "metadata": {},
     "output_type": "execute_result"
    }
   ],
   "source": [
    "get_user_id('ypsifly')"
   ]
  },
  {
   "cell_type": "code",
   "execution_count": 129,
   "metadata": {},
   "outputs": [
    {
     "data": {
      "text/html": [
       "<div>\n",
       "<style scoped>\n",
       "    .dataframe tbody tr th:only-of-type {\n",
       "        vertical-align: middle;\n",
       "    }\n",
       "\n",
       "    .dataframe tbody tr th {\n",
       "        vertical-align: top;\n",
       "    }\n",
       "\n",
       "    .dataframe thead th {\n",
       "        text-align: right;\n",
       "    }\n",
       "</style>\n",
       "<table border=\"1\" class=\"dataframe\">\n",
       "  <thead>\n",
       "    <tr style=\"text-align: right;\">\n",
       "      <th></th>\n",
       "      <th>user_id</th>\n",
       "      <th>review_profilename</th>\n",
       "    </tr>\n",
       "  </thead>\n",
       "  <tbody>\n",
       "    <tr>\n",
       "      <th>1</th>\n",
       "      <td>1</td>\n",
       "      <td>ypsifly</td>\n",
       "    </tr>\n",
       "  </tbody>\n",
       "</table>\n",
       "</div>"
      ],
      "text/plain": [
       "   user_id review_profilename\n",
       "1        1            ypsifly"
      ]
     },
     "execution_count": 129,
     "metadata": {},
     "output_type": "execute_result"
    }
   ],
   "source": [
    "userdf[userdf['review_profilename'] == 'ypsifly']"
   ]
  },
  {
   "cell_type": "code",
   "execution_count": 130,
   "metadata": {},
   "outputs": [
    {
     "data": {
      "text/plain": [
       "3"
      ]
     },
     "execution_count": 130,
     "metadata": {},
     "output_type": "execute_result"
    }
   ],
   "source": [
    "get_user_id('wnhay')"
   ]
  },
  {
   "cell_type": "code",
   "execution_count": 131,
   "metadata": {},
   "outputs": [
    {
     "data": {
      "text/html": [
       "<div>\n",
       "<style scoped>\n",
       "    .dataframe tbody tr th:only-of-type {\n",
       "        vertical-align: middle;\n",
       "    }\n",
       "\n",
       "    .dataframe tbody tr th {\n",
       "        vertical-align: top;\n",
       "    }\n",
       "\n",
       "    .dataframe thead th {\n",
       "        text-align: right;\n",
       "    }\n",
       "</style>\n",
       "<table border=\"1\" class=\"dataframe\">\n",
       "  <thead>\n",
       "    <tr style=\"text-align: right;\">\n",
       "      <th></th>\n",
       "      <th>user_id</th>\n",
       "      <th>review_profilename</th>\n",
       "    </tr>\n",
       "  </thead>\n",
       "  <tbody>\n",
       "    <tr>\n",
       "      <th>3</th>\n",
       "      <td>3</td>\n",
       "      <td>wnhay</td>\n",
       "    </tr>\n",
       "  </tbody>\n",
       "</table>\n",
       "</div>"
      ],
      "text/plain": [
       "   user_id review_profilename\n",
       "3        3              wnhay"
      ]
     },
     "execution_count": 131,
     "metadata": {},
     "output_type": "execute_result"
    }
   ],
   "source": [
    "userdf[userdf['review_profilename'] == 'wnhay']"
   ]
  },
  {
   "cell_type": "code",
   "execution_count": 132,
   "metadata": {},
   "outputs": [
    {
     "data": {
      "text/plain": [
       "''"
      ]
     },
     "execution_count": 132,
     "metadata": {},
     "output_type": "execute_result"
    }
   ],
   "source": [
    "get_user_id('Unknown User Profile Name')"
   ]
  },
  {
   "cell_type": "code",
   "execution_count": 133,
   "metadata": {},
   "outputs": [],
   "source": [
    "dfreviewsAux = dfreviews.copy()"
   ]
  },
  {
   "cell_type": "code",
   "execution_count": 134,
   "metadata": {},
   "outputs": [],
   "source": [
    "dfreviewsAux['user_id'] = dfreviewsAux.apply(lambda row: \\\n",
    "                                             get_user_id(row['review_profilename']), \\\n",
    "                                             axis=1)"
   ]
  },
  {
   "cell_type": "code",
   "execution_count": 135,
   "metadata": {},
   "outputs": [
    {
     "data": {
      "text/plain": [
       "1"
      ]
     },
     "execution_count": 135,
     "metadata": {},
     "output_type": "execute_result"
    }
   ],
   "source": [
    "dfreviewsAux[dfreviewsAux['review_profilename'] == 'ypsifly']['user_id'].unique()[0]"
   ]
  },
  {
   "cell_type": "code",
   "execution_count": 136,
   "metadata": {},
   "outputs": [
    {
     "data": {
      "text/plain": [
       "3"
      ]
     },
     "execution_count": 136,
     "metadata": {},
     "output_type": "execute_result"
    }
   ],
   "source": [
    "dfreviewsAux[dfreviewsAux['review_profilename'] == 'wnhay']['user_id'].unique()[0]"
   ]
  },
  {
   "cell_type": "code",
   "execution_count": 137,
   "metadata": {},
   "outputs": [
    {
     "data": {
      "text/html": [
       "<div>\n",
       "<style scoped>\n",
       "    .dataframe tbody tr th:only-of-type {\n",
       "        vertical-align: middle;\n",
       "    }\n",
       "\n",
       "    .dataframe tbody tr th {\n",
       "        vertical-align: top;\n",
       "    }\n",
       "\n",
       "    .dataframe thead th {\n",
       "        text-align: right;\n",
       "    }\n",
       "</style>\n",
       "<table border=\"1\" class=\"dataframe\">\n",
       "  <thead>\n",
       "    <tr style=\"text-align: right;\">\n",
       "      <th></th>\n",
       "      <th>review_profilename</th>\n",
       "      <th>beer_name</th>\n",
       "      <th>brewery_name</th>\n",
       "      <th>beer_advocates_style</th>\n",
       "      <th>beer_abv</th>\n",
       "      <th>abv_strength</th>\n",
       "      <th>review_overall</th>\n",
       "      <th>review_aroma</th>\n",
       "      <th>review_appearance</th>\n",
       "      <th>review_palate</th>\n",
       "      <th>review_taste</th>\n",
       "      <th>review_average</th>\n",
       "      <th>beer_style_ibu_avg</th>\n",
       "      <th>beeradvocate_score</th>\n",
       "      <th>aroma_appearance_score</th>\n",
       "      <th>beer_id</th>\n",
       "      <th>user_id</th>\n",
       "    </tr>\n",
       "  </thead>\n",
       "  <tbody>\n",
       "    <tr>\n",
       "      <th>0</th>\n",
       "      <td>zyzygy</td>\n",
       "      <td>Stone Old Guardian Barley Wine Style Ale 2006</td>\n",
       "      <td>Stone Brewing Co.</td>\n",
       "      <td>American Barleywine</td>\n",
       "      <td>11.2</td>\n",
       "      <td>4</td>\n",
       "      <td>4.0</td>\n",
       "      <td>4.5</td>\n",
       "      <td>4.0</td>\n",
       "      <td>4.5</td>\n",
       "      <td>4.5</td>\n",
       "      <td>4.3</td>\n",
       "      <td>80.0</td>\n",
       "      <td>4.37</td>\n",
       "      <td>4.28</td>\n",
       "      <td>0</td>\n",
       "      <td>0</td>\n",
       "    </tr>\n",
       "    <tr>\n",
       "      <th>1</th>\n",
       "      <td>ypsifly</td>\n",
       "      <td>Stone Old Guardian Barley Wine Style Ale 2006</td>\n",
       "      <td>Stone Brewing Co.</td>\n",
       "      <td>American Barleywine</td>\n",
       "      <td>11.2</td>\n",
       "      <td>4</td>\n",
       "      <td>4.5</td>\n",
       "      <td>4.0</td>\n",
       "      <td>3.0</td>\n",
       "      <td>4.0</td>\n",
       "      <td>4.5</td>\n",
       "      <td>4.0</td>\n",
       "      <td>80.0</td>\n",
       "      <td>4.24</td>\n",
       "      <td>3.91</td>\n",
       "      <td>0</td>\n",
       "      <td>1</td>\n",
       "    </tr>\n",
       "    <tr>\n",
       "      <th>2</th>\n",
       "      <td>woemad</td>\n",
       "      <td>Stone Old Guardian Barley Wine Style Ale 2006</td>\n",
       "      <td>Stone Brewing Co.</td>\n",
       "      <td>American Barleywine</td>\n",
       "      <td>11.2</td>\n",
       "      <td>4</td>\n",
       "      <td>4.0</td>\n",
       "      <td>4.5</td>\n",
       "      <td>4.0</td>\n",
       "      <td>4.5</td>\n",
       "      <td>4.5</td>\n",
       "      <td>4.3</td>\n",
       "      <td>80.0</td>\n",
       "      <td>4.37</td>\n",
       "      <td>4.28</td>\n",
       "      <td>0</td>\n",
       "      <td>2</td>\n",
       "    </tr>\n",
       "    <tr>\n",
       "      <th>3</th>\n",
       "      <td>wnhay</td>\n",
       "      <td>Stone Old Guardian Barley Wine Style Ale 2006</td>\n",
       "      <td>Stone Brewing Co.</td>\n",
       "      <td>American Barleywine</td>\n",
       "      <td>11.2</td>\n",
       "      <td>4</td>\n",
       "      <td>4.0</td>\n",
       "      <td>4.0</td>\n",
       "      <td>4.5</td>\n",
       "      <td>4.0</td>\n",
       "      <td>4.0</td>\n",
       "      <td>4.1</td>\n",
       "      <td>80.0</td>\n",
       "      <td>4.03</td>\n",
       "      <td>4.12</td>\n",
       "      <td>0</td>\n",
       "      <td>3</td>\n",
       "    </tr>\n",
       "    <tr>\n",
       "      <th>4</th>\n",
       "      <td>williamherbert</td>\n",
       "      <td>Stone Old Guardian Barley Wine Style Ale 2006</td>\n",
       "      <td>Stone Brewing Co.</td>\n",
       "      <td>American Barleywine</td>\n",
       "      <td>11.2</td>\n",
       "      <td>4</td>\n",
       "      <td>3.0</td>\n",
       "      <td>3.0</td>\n",
       "      <td>4.5</td>\n",
       "      <td>3.0</td>\n",
       "      <td>3.5</td>\n",
       "      <td>3.4</td>\n",
       "      <td>80.0</td>\n",
       "      <td>3.29</td>\n",
       "      <td>3.41</td>\n",
       "      <td>0</td>\n",
       "      <td>4</td>\n",
       "    </tr>\n",
       "  </tbody>\n",
       "</table>\n",
       "</div>"
      ],
      "text/plain": [
       "  review_profilename                                      beer_name  \\\n",
       "0             zyzygy  Stone Old Guardian Barley Wine Style Ale 2006   \n",
       "1            ypsifly  Stone Old Guardian Barley Wine Style Ale 2006   \n",
       "2             woemad  Stone Old Guardian Barley Wine Style Ale 2006   \n",
       "3              wnhay  Stone Old Guardian Barley Wine Style Ale 2006   \n",
       "4     williamherbert  Stone Old Guardian Barley Wine Style Ale 2006   \n",
       "\n",
       "        brewery_name beer_advocates_style  beer_abv  abv_strength  \\\n",
       "0  Stone Brewing Co.  American Barleywine      11.2             4   \n",
       "1  Stone Brewing Co.  American Barleywine      11.2             4   \n",
       "2  Stone Brewing Co.  American Barleywine      11.2             4   \n",
       "3  Stone Brewing Co.  American Barleywine      11.2             4   \n",
       "4  Stone Brewing Co.  American Barleywine      11.2             4   \n",
       "\n",
       "   review_overall  review_aroma  review_appearance  review_palate  \\\n",
       "0             4.0           4.5                4.0            4.5   \n",
       "1             4.5           4.0                3.0            4.0   \n",
       "2             4.0           4.5                4.0            4.5   \n",
       "3             4.0           4.0                4.5            4.0   \n",
       "4             3.0           3.0                4.5            3.0   \n",
       "\n",
       "   review_taste  review_average  beer_style_ibu_avg  beeradvocate_score  \\\n",
       "0           4.5             4.3                80.0                4.37   \n",
       "1           4.5             4.0                80.0                4.24   \n",
       "2           4.5             4.3                80.0                4.37   \n",
       "3           4.0             4.1                80.0                4.03   \n",
       "4           3.5             3.4                80.0                3.29   \n",
       "\n",
       "   aroma_appearance_score  beer_id  user_id  \n",
       "0                    4.28        0        0  \n",
       "1                    3.91        0        1  \n",
       "2                    4.28        0        2  \n",
       "3                    4.12        0        3  \n",
       "4                    3.41        0        4  "
      ]
     },
     "execution_count": 137,
     "metadata": {},
     "output_type": "execute_result"
    }
   ],
   "source": [
    "dfreviewsAux.head()"
   ]
  },
  {
   "cell_type": "code",
   "execution_count": 139,
   "metadata": {
    "scrolled": true
   },
   "outputs": [
    {
     "name": "stdout",
     "output_type": "stream",
     "text": [
      "<class 'pandas.core.frame.DataFrame'>\n",
      "RangeIndex: 1301173 entries, 0 to 1301172\n",
      "Data columns (total 17 columns):\n",
      "review_profilename        1301173 non-null category\n",
      "beer_name                 1301173 non-null category\n",
      "brewery_name              1301173 non-null category\n",
      "beer_advocates_style      1301173 non-null category\n",
      "beer_abv                  1301173 non-null float64\n",
      "abv_strength              1301173 non-null int64\n",
      "review_overall            1301173 non-null float64\n",
      "review_aroma              1301173 non-null float64\n",
      "review_appearance         1301173 non-null float64\n",
      "review_palate             1301173 non-null float64\n",
      "review_taste              1301173 non-null float64\n",
      "review_average            1301173 non-null float64\n",
      "beer_style_ibu_avg        1301173 non-null float64\n",
      "beeradvocate_score        1301173 non-null float64\n",
      "aroma_appearance_score    1301173 non-null float64\n",
      "beer_id                   1301173 non-null int64\n",
      "user_id                   1301173 non-null int64\n",
      "dtypes: category(4), float64(10), int64(3)\n",
      "memory usage: 139.7 MB\n"
     ]
    }
   ],
   "source": [
    "dfreviewsAux.info()"
   ]
  },
  {
   "cell_type": "code",
   "execution_count": 140,
   "metadata": {},
   "outputs": [],
   "source": [
    "dfreviews = dfreviewsAux.copy()"
   ]
  },
  {
   "cell_type": "markdown",
   "metadata": {},
   "source": [
    "### GUARDAREMOS LOS NUEVOS DATASET PARA ENTRADA DEL RECOMENDADOR"
   ]
  },
  {
   "cell_type": "code",
   "execution_count": 146,
   "metadata": {},
   "outputs": [],
   "source": [
    "# Almacenaremos el NUEVO DATASET CON LAS VALORACIONES UTILES COMO ENTRADA DE RECOMENDADORES\n",
    "dfreviews[['user_id', 'review_profilename', \\\n",
    "           'beer_name', 'beer_advocates_style', 'beer_id', \\\n",
    "           'beer_abv', 'abv_strength',  'beer_style_ibu_avg', 'brewery_name', \\\n",
    "           'review_aroma', 'review_appearance', 'review_palate', 'review_taste', 'review_overall', \\\n",
    "           'review_average', 'beeradvocate_score', 'aroma_appearance_score']] \\\n",
    "         .to_csv('./Data/beer_reviews_v3.csv', sep=',', index=False)"
   ]
  },
  {
   "cell_type": "code",
   "execution_count": 151,
   "metadata": {},
   "outputs": [],
   "source": [
    "userdf[['user_id', 'review_profilename']] \\\n",
    "      .to_csv('./Data/users_v1.csv', sep=',', index=False)"
   ]
  },
  {
   "cell_type": "code",
   "execution_count": 165,
   "metadata": {},
   "outputs": [],
   "source": [
    "dfreviewsAux = dfreviews.copy()"
   ]
  },
  {
   "cell_type": "code",
   "execution_count": 166,
   "metadata": {},
   "outputs": [],
   "source": [
    "# CLASIFICAMOS POR CERVEZA Y 'review_overall' \n",
    "dfreviewsAux = dfreviewsAux.sort_values(['beer_id', 'review_overall'], ascending=True)"
   ]
  },
  {
   "cell_type": "code",
   "execution_count": 167,
   "metadata": {},
   "outputs": [],
   "source": [
    "# PARA CADA CERVEZA, MANTENDREMOS UNA VOTACION, BORRAREMOS LAS DEMAS Y, OBTENDREMOS LOS DATOS DE LA CERVEZA\n",
    "dfreviewsAux = dfreviewsAux.drop_duplicates(subset= ['beer_name'], keep='first')"
   ]
  },
  {
   "cell_type": "code",
   "execution_count": 168,
   "metadata": {},
   "outputs": [],
   "source": [
    "# AHORA SOLO NOS QUEDAMOS CON LOS DATOS PROPIOS DE CADA CERVEZA\n",
    "dfreviewsAux = dfreviewsAux[['beer_id','beer_name', 'beer_advocates_style', \\\n",
    "           'beer_abv', 'abv_strength', 'beer_style_ibu_avg', 'brewery_name']]"
   ]
  },
  {
   "cell_type": "code",
   "execution_count": 169,
   "metadata": {},
   "outputs": [
    {
     "data": {
      "text/html": [
       "<div>\n",
       "<style scoped>\n",
       "    .dataframe tbody tr th:only-of-type {\n",
       "        vertical-align: middle;\n",
       "    }\n",
       "\n",
       "    .dataframe tbody tr th {\n",
       "        vertical-align: top;\n",
       "    }\n",
       "\n",
       "    .dataframe thead th {\n",
       "        text-align: right;\n",
       "    }\n",
       "</style>\n",
       "<table border=\"1\" class=\"dataframe\">\n",
       "  <thead>\n",
       "    <tr style=\"text-align: right;\">\n",
       "      <th></th>\n",
       "      <th>beer_id</th>\n",
       "      <th>beer_name</th>\n",
       "      <th>beer_advocates_style</th>\n",
       "      <th>beer_abv</th>\n",
       "      <th>abv_strength</th>\n",
       "      <th>beer_style_ibu_avg</th>\n",
       "      <th>brewery_name</th>\n",
       "    </tr>\n",
       "  </thead>\n",
       "  <tbody>\n",
       "    <tr>\n",
       "      <th>75</th>\n",
       "      <td>0</td>\n",
       "      <td>Stone Old Guardian Barley Wine Style Ale 2006</td>\n",
       "      <td>American Barleywine</td>\n",
       "      <td>11.20</td>\n",
       "      <td>4</td>\n",
       "      <td>80.0</td>\n",
       "      <td>Stone Brewing Co.</td>\n",
       "    </tr>\n",
       "    <tr>\n",
       "      <th>176</th>\n",
       "      <td>1</td>\n",
       "      <td>Samuel Adams Brown Ale</td>\n",
       "      <td>English Brown Ale</td>\n",
       "      <td>5.35</td>\n",
       "      <td>2</td>\n",
       "      <td>20.0</td>\n",
       "      <td>Boston Beer Company (Samuel Adams)</td>\n",
       "    </tr>\n",
       "    <tr>\n",
       "      <th>1686</th>\n",
       "      <td>2</td>\n",
       "      <td>Hennepin (Farmhouse Saison)</td>\n",
       "      <td>Belgian Saison</td>\n",
       "      <td>7.70</td>\n",
       "      <td>3</td>\n",
       "      <td>29.0</td>\n",
       "      <td>Brewery Ommegang</td>\n",
       "    </tr>\n",
       "    <tr>\n",
       "      <th>2828</th>\n",
       "      <td>3</td>\n",
       "      <td>Double Bag</td>\n",
       "      <td>German Altbier</td>\n",
       "      <td>7.20</td>\n",
       "      <td>3</td>\n",
       "      <td>37.5</td>\n",
       "      <td>Long Trail Brewing Co.</td>\n",
       "    </tr>\n",
       "    <tr>\n",
       "      <th>3209</th>\n",
       "      <td>4</td>\n",
       "      <td>Berkshire Russian Imperial Stout</td>\n",
       "      <td>Russian Imperial Stout</td>\n",
       "      <td>8.50</td>\n",
       "      <td>3</td>\n",
       "      <td>70.0</td>\n",
       "      <td>Berkshire Brewing Company Inc.</td>\n",
       "    </tr>\n",
       "  </tbody>\n",
       "</table>\n",
       "</div>"
      ],
      "text/plain": [
       "      beer_id                                      beer_name  \\\n",
       "75          0  Stone Old Guardian Barley Wine Style Ale 2006   \n",
       "176         1                         Samuel Adams Brown Ale   \n",
       "1686        2                    Hennepin (Farmhouse Saison)   \n",
       "2828        3                                     Double Bag   \n",
       "3209        4               Berkshire Russian Imperial Stout   \n",
       "\n",
       "        beer_advocates_style  beer_abv  abv_strength  beer_style_ibu_avg  \\\n",
       "75       American Barleywine     11.20             4                80.0   \n",
       "176        English Brown Ale      5.35             2                20.0   \n",
       "1686          Belgian Saison      7.70             3                29.0   \n",
       "2828          German Altbier      7.20             3                37.5   \n",
       "3209  Russian Imperial Stout      8.50             3                70.0   \n",
       "\n",
       "                            brewery_name  \n",
       "75                     Stone Brewing Co.  \n",
       "176   Boston Beer Company (Samuel Adams)  \n",
       "1686                    Brewery Ommegang  \n",
       "2828              Long Trail Brewing Co.  \n",
       "3209      Berkshire Brewing Company Inc.  "
      ]
     },
     "execution_count": 169,
     "metadata": {},
     "output_type": "execute_result"
    }
   ],
   "source": [
    "dfreviewsAux.head()"
   ]
  },
  {
   "cell_type": "code",
   "execution_count": 170,
   "metadata": {},
   "outputs": [
    {
     "data": {
      "text/html": [
       "<div>\n",
       "<style scoped>\n",
       "    .dataframe tbody tr th:only-of-type {\n",
       "        vertical-align: middle;\n",
       "    }\n",
       "\n",
       "    .dataframe tbody tr th {\n",
       "        vertical-align: top;\n",
       "    }\n",
       "\n",
       "    .dataframe thead th {\n",
       "        text-align: right;\n",
       "    }\n",
       "</style>\n",
       "<table border=\"1\" class=\"dataframe\">\n",
       "  <thead>\n",
       "    <tr style=\"text-align: right;\">\n",
       "      <th></th>\n",
       "      <th>beer_id</th>\n",
       "      <th>beer_name</th>\n",
       "      <th>beer_advocates_style</th>\n",
       "      <th>beer_abv</th>\n",
       "      <th>abv_strength</th>\n",
       "      <th>beer_style_ibu_avg</th>\n",
       "      <th>brewery_name</th>\n",
       "    </tr>\n",
       "  </thead>\n",
       "  <tbody>\n",
       "    <tr>\n",
       "      <th>1301010</th>\n",
       "      <td>6499</td>\n",
       "      <td>MacTarnahan's Sling Shot Extra Pale Ale</td>\n",
       "      <td>American Pale Ale (APA)</td>\n",
       "      <td>6.2</td>\n",
       "      <td>3</td>\n",
       "      <td>37.5</td>\n",
       "      <td>Portland Brewing Company</td>\n",
       "    </tr>\n",
       "    <tr>\n",
       "      <th>1301051</th>\n",
       "      <td>6500</td>\n",
       "      <td>Saxer JackFrost Winter Doppelbock</td>\n",
       "      <td>German Doppelbock</td>\n",
       "      <td>8.0</td>\n",
       "      <td>3</td>\n",
       "      <td>22.0</td>\n",
       "      <td>Saxer Brewing Company</td>\n",
       "    </tr>\n",
       "    <tr>\n",
       "      <th>1301090</th>\n",
       "      <td>6501</td>\n",
       "      <td>Nickel Brook Green Apple Pilsner</td>\n",
       "      <td>Fruit and Field Beer</td>\n",
       "      <td>4.0</td>\n",
       "      <td>2</td>\n",
       "      <td>25.0</td>\n",
       "      <td>Better Bitters Brewing Co.</td>\n",
       "    </tr>\n",
       "    <tr>\n",
       "      <th>1301102</th>\n",
       "      <td>6502</td>\n",
       "      <td>Mill Race Mild</td>\n",
       "      <td>English Dark Mild Ale</td>\n",
       "      <td>3.5</td>\n",
       "      <td>1</td>\n",
       "      <td>25.0</td>\n",
       "      <td>Grand River Brewing</td>\n",
       "    </tr>\n",
       "    <tr>\n",
       "      <th>1301154</th>\n",
       "      <td>6503</td>\n",
       "      <td>Point Spring Bock</td>\n",
       "      <td>German Bock</td>\n",
       "      <td>5.2</td>\n",
       "      <td>2</td>\n",
       "      <td>25.0</td>\n",
       "      <td>Stevens Point Brewery</td>\n",
       "    </tr>\n",
       "  </tbody>\n",
       "</table>\n",
       "</div>"
      ],
      "text/plain": [
       "         beer_id                                beer_name  \\\n",
       "1301010     6499  MacTarnahan's Sling Shot Extra Pale Ale   \n",
       "1301051     6500        Saxer JackFrost Winter Doppelbock   \n",
       "1301090     6501         Nickel Brook Green Apple Pilsner   \n",
       "1301102     6502                           Mill Race Mild   \n",
       "1301154     6503                        Point Spring Bock   \n",
       "\n",
       "            beer_advocates_style  beer_abv  abv_strength  beer_style_ibu_avg  \\\n",
       "1301010  American Pale Ale (APA)       6.2             3                37.5   \n",
       "1301051        German Doppelbock       8.0             3                22.0   \n",
       "1301090     Fruit and Field Beer       4.0             2                25.0   \n",
       "1301102    English Dark Mild Ale       3.5             1                25.0   \n",
       "1301154              German Bock       5.2             2                25.0   \n",
       "\n",
       "                       brewery_name  \n",
       "1301010    Portland Brewing Company  \n",
       "1301051       Saxer Brewing Company  \n",
       "1301090  Better Bitters Brewing Co.  \n",
       "1301102         Grand River Brewing  \n",
       "1301154       Stevens Point Brewery  "
      ]
     },
     "execution_count": 170,
     "metadata": {},
     "output_type": "execute_result"
    }
   ],
   "source": [
    "dfreviewsAux.tail()"
   ]
  },
  {
   "cell_type": "code",
   "execution_count": 171,
   "metadata": {
    "scrolled": true
   },
   "outputs": [
    {
     "name": "stdout",
     "output_type": "stream",
     "text": [
      "<class 'pandas.core.frame.DataFrame'>\n",
      "Int64Index: 6504 entries, 75 to 1301154\n",
      "Data columns (total 7 columns):\n",
      "beer_id                 6504 non-null int64\n",
      "beer_name               6504 non-null category\n",
      "beer_advocates_style    6504 non-null category\n",
      "beer_abv                6504 non-null float64\n",
      "abv_strength            6504 non-null int64\n",
      "beer_style_ibu_avg      6504 non-null float64\n",
      "brewery_name            6504 non-null category\n",
      "dtypes: category(3), float64(2), int64(2)\n",
      "memory usage: 757.4 KB\n"
     ]
    }
   ],
   "source": [
    "dfreviewsAux.info()"
   ]
  },
  {
   "cell_type": "code",
   "execution_count": 172,
   "metadata": {},
   "outputs": [],
   "source": [
    "dfreviewsAux[['beer_id', 'beer_name', 'beer_advocates_style', \\\n",
    "              'beer_abv', 'abv_strength', 'beer_style_ibu_avg', 'brewery_name']] \\\n",
    "            .to_csv('./Data/beers_v1.csv', sep=',', index=False)"
   ]
  },
  {
   "cell_type": "code",
   "execution_count": null,
   "metadata": {},
   "outputs": [],
   "source": []
  }
 ],
 "metadata": {
  "kernelspec": {
   "display_name": "Python 3",
   "language": "python",
   "name": "python3"
  },
  "language_info": {
   "codemirror_mode": {
    "name": "ipython",
    "version": 3
   },
   "file_extension": ".py",
   "mimetype": "text/x-python",
   "name": "python",
   "nbconvert_exporter": "python",
   "pygments_lexer": "ipython3",
   "version": "3.7.3"
  }
 },
 "nbformat": 4,
 "nbformat_minor": 2
}
